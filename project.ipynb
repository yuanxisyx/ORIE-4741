{
 "cells": [
  {
   "cell_type": "code",
   "execution_count": 2,
   "metadata": {},
   "outputs": [
    {
     "name": "stdout",
     "output_type": "stream",
     "text": [
      "thread = 1 warning: only found 10 / 24 columns on data row: 19730. Filling remaining columns with `missing`\n",
      "thread = 1 warning: only found 15 / 24 columns on data row: 19731. Filling remaining columns with `missing`\n",
      "thread = 1 warning: only found 10 / 24 columns on data row: 29503. Filling remaining columns with `missing`\n",
      "thread = 1 warning: only found 15 / 24 columns on data row: 29504. Filling remaining columns with `missing`\n",
      "thread = 1 warning: only found 10 / 24 columns on data row: 35587. Filling remaining columns with `missing`\n",
      "thread = 1 warning: only found 15 / 24 columns on data row: 35588. Filling remaining columns with `missing`\n"
     ]
    }
   ],
   "source": [
    "using Statistics, LinearAlgebra, Random, DataFrames, Plots, StatsPlots, CSV\n",
    "# credits = CSV.read(\"credits.csv\")\n",
    "# keywords = CSV.read(\"keywords.csv\")\n",
    "# links = CSV.read(\"links.csv\")\n",
    "# links_small = CSV.read(\"links_small.csv\")\n",
    "movies_metadata = CSV.read(\"movies_metadata.csv\");\n",
    "# ratings = CSV.read(\"ratings.csv\")\n",
    "# ratings_small = CSV.read(\"ratings_small.csv\")"
   ]
  },
  {
   "cell_type": "code",
   "execution_count": 6,
   "metadata": {},
   "outputs": [
    {
     "data": {
      "text/plain": [
       "24-element Array{Symbol,1}:\n",
       " :adult                \n",
       " :belongs_to_collection\n",
       " :budget               \n",
       " :genres               \n",
       " :homepage             \n",
       " :id                   \n",
       " :imdb_id              \n",
       " :original_language    \n",
       " :original_title       \n",
       " :overview             \n",
       " :popularity           \n",
       " :poster_path          \n",
       " :production_companies \n",
       " :production_countries \n",
       " :release_date         \n",
       " :revenue              \n",
       " :runtime              \n",
       " :spoken_languages     \n",
       " :status               \n",
       " :tagline              \n",
       " :title                \n",
       " :video                \n",
       " :vote_average         \n",
       " :vote_count           "
      ]
     },
     "execution_count": 6,
     "metadata": {},
     "output_type": "execute_result"
    }
   ],
   "source": [
    "names(movies_metadata)"
   ]
  },
  {
   "cell_type": "code",
   "execution_count": 10,
   "metadata": {},
   "outputs": [],
   "source": [
    "budget = movies_metadata[:,:budget]\n",
    "Random.seed!(3)\n",
    "randlist = filter(x -> x != \"0\", movies_metadata[:,:budget])\n",
    "rand_num = length(randlist)\n",
    "budget_rep = replace(budget, \"/ff9qCepilowshEtG2GYWwzt2bs4.jpg\"=>\"0\")\n",
    "budget_rep = replace(budget_rep, \"/zV8bHuSL6WXoD6FWogP9j4x80bL.jpg\"=>\"0\")\n",
    "budget_rep = replace(budget_rep, \"/zaSf5OG7V8X8gqFvly88zDdRm46.jpg\"=>\"0\")\n",
    "budget_rep = replace(budget_rep, \"0\"=>randlist[rand(1:rand_num)], NaN=>randlist[rand(1:rand_num)])\n",
    "budget_repint = parse.(Float64, string.(budget_rep)) / 10^6\n",
    "n = length(budget_repint)\n",
    "budget_feature = zeros(n, 2)\n",
    "for r in 1:n\n",
    "    if budget_repint[r] > 20\n",
    "        budget_feature[r,:] = [1,1]\n",
    "    elseif budget_repint[r] > 1\n",
    "        budget_feature[r,:] = [1,0]\n",
    "    else\n",
    "        budget_feature[r,:] = [0,0]\n",
    "    end\n",
    "end"
   ]
  },
  {
   "cell_type": "code",
   "execution_count": null,
   "metadata": {
    "collapsed": true
   },
   "outputs": [],
   "source": []
  }
 ],
 "metadata": {
  "kernelspec": {
   "display_name": "Julia 1.2.0",
   "language": "julia",
   "name": "julia-1.2"
  },
  "language_info": {
   "file_extension": ".jl",
   "mimetype": "application/julia",
   "name": "julia",
   "version": "1.2.0"
  }
 },
 "nbformat": 4,
 "nbformat_minor": 2
}
