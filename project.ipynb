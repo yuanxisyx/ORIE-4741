{
 "cells": [
  {
   "cell_type": "code",
   "execution_count": 1,
   "metadata": {},
   "outputs": [
    {
     "name": "stderr",
     "output_type": "stream",
     "text": [
      "┌ Info: Recompiling stale cache file /Users/shiyixin/.julia/compiled/v1.2/DataFrames/AR9oZ.ji for DataFrames [a93c6f00-e57d-5684-b7b6-d8193f3e46c0]\n",
      "└ @ Base loading.jl:1240\n",
      "┌ Info: Recompiling stale cache file /Users/shiyixin/.julia/compiled/v1.2/StatsPlots/SiylL.ji for StatsPlots [f3b207a7-027a-5e70-b257-86293d7955fd]\n",
      "└ @ Base loading.jl:1240\n",
      "┌ Info: Recompiling stale cache file /Users/shiyixin/.julia/compiled/v1.2/CSV/HHBkp.ji for CSV [336ed68f-0bac-5ca0-87d4-7b16caf5d00b]\n",
      "└ @ Base loading.jl:1240\n"
     ]
    },
    {
     "name": "stdout",
     "output_type": "stream",
     "text": [
      "thread = 1 warning: only found 10 / 24 columns on data row: 19730. Filling remaining columns with `missing`\n",
      "thread = 1 warning: only found 15 / 24 columns on data row: 19731. Filling remaining columns with `missing`\n",
      "thread = 1 warning: only found 10 / 24 columns on data row: 29503. Filling remaining columns with `missing`\n",
      "thread = 1 warning: only found 15 / 24 columns on data row: 29504. Filling remaining columns with `missing`\n",
      "thread = 1 warning: only found 10 / 24 columns on data row: 35587. Filling remaining columns with `missing`\n",
      "thread = 1 warning: only found 15 / 24 columns on data row: 35588. Filling remaining columns with `missing`\n"
     ]
    },
    {
     "data": {
      "text/html": [
       "<table class=\"data-frame\"><thead><tr><th></th><th>userId</th><th>movieId</th><th>rating</th><th>timestamp</th></tr><tr><th></th><th>Int64</th><th>Int64</th><th>Float64</th><th>Int64</th></tr></thead><tbody><p>100,004 rows × 4 columns</p><tr><th>1</th><td>1</td><td>31</td><td>2.5</td><td>1260759144</td></tr><tr><th>2</th><td>1</td><td>1029</td><td>3.0</td><td>1260759179</td></tr><tr><th>3</th><td>1</td><td>1061</td><td>3.0</td><td>1260759182</td></tr><tr><th>4</th><td>1</td><td>1129</td><td>2.0</td><td>1260759185</td></tr><tr><th>5</th><td>1</td><td>1172</td><td>4.0</td><td>1260759205</td></tr><tr><th>6</th><td>1</td><td>1263</td><td>2.0</td><td>1260759151</td></tr><tr><th>7</th><td>1</td><td>1287</td><td>2.0</td><td>1260759187</td></tr><tr><th>8</th><td>1</td><td>1293</td><td>2.0</td><td>1260759148</td></tr><tr><th>9</th><td>1</td><td>1339</td><td>3.5</td><td>1260759125</td></tr><tr><th>10</th><td>1</td><td>1343</td><td>2.0</td><td>1260759131</td></tr><tr><th>11</th><td>1</td><td>1371</td><td>2.5</td><td>1260759135</td></tr><tr><th>12</th><td>1</td><td>1405</td><td>1.0</td><td>1260759203</td></tr><tr><th>13</th><td>1</td><td>1953</td><td>4.0</td><td>1260759191</td></tr><tr><th>14</th><td>1</td><td>2105</td><td>4.0</td><td>1260759139</td></tr><tr><th>15</th><td>1</td><td>2150</td><td>3.0</td><td>1260759194</td></tr><tr><th>16</th><td>1</td><td>2193</td><td>2.0</td><td>1260759198</td></tr><tr><th>17</th><td>1</td><td>2294</td><td>2.0</td><td>1260759108</td></tr><tr><th>18</th><td>1</td><td>2455</td><td>2.5</td><td>1260759113</td></tr><tr><th>19</th><td>1</td><td>2968</td><td>1.0</td><td>1260759200</td></tr><tr><th>20</th><td>1</td><td>3671</td><td>3.0</td><td>1260759117</td></tr><tr><th>21</th><td>2</td><td>10</td><td>4.0</td><td>835355493</td></tr><tr><th>22</th><td>2</td><td>17</td><td>5.0</td><td>835355681</td></tr><tr><th>23</th><td>2</td><td>39</td><td>5.0</td><td>835355604</td></tr><tr><th>24</th><td>2</td><td>47</td><td>4.0</td><td>835355552</td></tr><tr><th>25</th><td>2</td><td>50</td><td>4.0</td><td>835355586</td></tr><tr><th>26</th><td>2</td><td>52</td><td>3.0</td><td>835356031</td></tr><tr><th>27</th><td>2</td><td>62</td><td>3.0</td><td>835355749</td></tr><tr><th>28</th><td>2</td><td>110</td><td>4.0</td><td>835355532</td></tr><tr><th>29</th><td>2</td><td>144</td><td>3.0</td><td>835356016</td></tr><tr><th>30</th><td>2</td><td>150</td><td>5.0</td><td>835355395</td></tr><tr><th>&vellip;</th><td>&vellip;</td><td>&vellip;</td><td>&vellip;</td><td>&vellip;</td></tr></tbody></table>"
      ],
      "text/latex": [
       "\\begin{tabular}{r|cccc}\n",
       "\t& userId & movieId & rating & timestamp\\\\\n",
       "\t\\hline\n",
       "\t& Int64 & Int64 & Float64 & Int64\\\\\n",
       "\t\\hline\n",
       "\t1 & 1 & 31 & 2.5 & 1260759144 \\\\\n",
       "\t2 & 1 & 1029 & 3.0 & 1260759179 \\\\\n",
       "\t3 & 1 & 1061 & 3.0 & 1260759182 \\\\\n",
       "\t4 & 1 & 1129 & 2.0 & 1260759185 \\\\\n",
       "\t5 & 1 & 1172 & 4.0 & 1260759205 \\\\\n",
       "\t6 & 1 & 1263 & 2.0 & 1260759151 \\\\\n",
       "\t7 & 1 & 1287 & 2.0 & 1260759187 \\\\\n",
       "\t8 & 1 & 1293 & 2.0 & 1260759148 \\\\\n",
       "\t9 & 1 & 1339 & 3.5 & 1260759125 \\\\\n",
       "\t10 & 1 & 1343 & 2.0 & 1260759131 \\\\\n",
       "\t11 & 1 & 1371 & 2.5 & 1260759135 \\\\\n",
       "\t12 & 1 & 1405 & 1.0 & 1260759203 \\\\\n",
       "\t13 & 1 & 1953 & 4.0 & 1260759191 \\\\\n",
       "\t14 & 1 & 2105 & 4.0 & 1260759139 \\\\\n",
       "\t15 & 1 & 2150 & 3.0 & 1260759194 \\\\\n",
       "\t16 & 1 & 2193 & 2.0 & 1260759198 \\\\\n",
       "\t17 & 1 & 2294 & 2.0 & 1260759108 \\\\\n",
       "\t18 & 1 & 2455 & 2.5 & 1260759113 \\\\\n",
       "\t19 & 1 & 2968 & 1.0 & 1260759200 \\\\\n",
       "\t20 & 1 & 3671 & 3.0 & 1260759117 \\\\\n",
       "\t21 & 2 & 10 & 4.0 & 835355493 \\\\\n",
       "\t22 & 2 & 17 & 5.0 & 835355681 \\\\\n",
       "\t23 & 2 & 39 & 5.0 & 835355604 \\\\\n",
       "\t24 & 2 & 47 & 4.0 & 835355552 \\\\\n",
       "\t25 & 2 & 50 & 4.0 & 835355586 \\\\\n",
       "\t26 & 2 & 52 & 3.0 & 835356031 \\\\\n",
       "\t27 & 2 & 62 & 3.0 & 835355749 \\\\\n",
       "\t28 & 2 & 110 & 4.0 & 835355532 \\\\\n",
       "\t29 & 2 & 144 & 3.0 & 835356016 \\\\\n",
       "\t30 & 2 & 150 & 5.0 & 835355395 \\\\\n",
       "\t$\\dots$ & $\\dots$ & $\\dots$ & $\\dots$ & $\\dots$ \\\\\n",
       "\\end{tabular}\n"
      ],
      "text/plain": [
       "100004×4 DataFrame\n",
       "│ Row    │ userId │ movieId │ rating  │ timestamp  │\n",
       "│        │ \u001b[90mInt64\u001b[39m  │ \u001b[90mInt64\u001b[39m   │ \u001b[90mFloat64\u001b[39m │ \u001b[90mInt64\u001b[39m      │\n",
       "├────────┼────────┼─────────┼─────────┼────────────┤\n",
       "│ 1      │ 1      │ 31      │ 2.5     │ 1260759144 │\n",
       "│ 2      │ 1      │ 1029    │ 3.0     │ 1260759179 │\n",
       "│ 3      │ 1      │ 1061    │ 3.0     │ 1260759182 │\n",
       "│ 4      │ 1      │ 1129    │ 2.0     │ 1260759185 │\n",
       "│ 5      │ 1      │ 1172    │ 4.0     │ 1260759205 │\n",
       "│ 6      │ 1      │ 1263    │ 2.0     │ 1260759151 │\n",
       "│ 7      │ 1      │ 1287    │ 2.0     │ 1260759187 │\n",
       "│ 8      │ 1      │ 1293    │ 2.0     │ 1260759148 │\n",
       "│ 9      │ 1      │ 1339    │ 3.5     │ 1260759125 │\n",
       "│ 10     │ 1      │ 1343    │ 2.0     │ 1260759131 │\n",
       "⋮\n",
       "│ 99994  │ 671    │ 5902    │ 3.5     │ 1064245507 │\n",
       "│ 99995  │ 671    │ 5952    │ 5.0     │ 1063502716 │\n",
       "│ 99996  │ 671    │ 5989    │ 4.0     │ 1064890625 │\n",
       "│ 99997  │ 671    │ 5991    │ 4.5     │ 1064245387 │\n",
       "│ 99998  │ 671    │ 5995    │ 4.0     │ 1066793014 │\n",
       "│ 99999  │ 671    │ 6212    │ 2.5     │ 1065149436 │\n",
       "│ 100000 │ 671    │ 6268    │ 2.5     │ 1065579370 │\n",
       "│ 100001 │ 671    │ 6269    │ 4.0     │ 1065149201 │\n",
       "│ 100002 │ 671    │ 6365    │ 4.0     │ 1070940363 │\n",
       "│ 100003 │ 671    │ 6385    │ 2.5     │ 1070979663 │\n",
       "│ 100004 │ 671    │ 6565    │ 3.5     │ 1074784724 │"
      ]
     },
     "execution_count": 1,
     "metadata": {},
     "output_type": "execute_result"
    }
   ],
   "source": [
    "using Statistics, LinearAlgebra, Random, DataFrames, Plots, StatsPlots, CSV\n",
    "credits = CSV.read(\"credits.csv\")\n",
    "keywords = CSV.read(\"keywords.csv\")\n",
    "links = CSV.read(\"links.csv\")\n",
    "links_small = CSV.read(\"links_small.csv\")\n",
    "movies_metadata = CSV.read(\"movies_metadata.csv\")\n",
    "ratings = CSV.read(\"ratings.csv\")\n",
    "ratings_small = CSV.read(\"ratings_small.csv\")"
   ]
  },
  {
   "cell_type": "code",
   "execution_count": 6,
   "metadata": {},
   "outputs": [
    {
     "data": {
      "text/plain": [
       "24-element Array{Symbol,1}:\n",
       " :adult                \n",
       " :belongs_to_collection\n",
       " :budget               \n",
       " :genres               \n",
       " :homepage             \n",
       " :id                   \n",
       " :imdb_id              \n",
       " :original_language    \n",
       " :original_title       \n",
       " :overview             \n",
       " :popularity           \n",
       " :poster_path          \n",
       " :production_companies \n",
       " :production_countries \n",
       " :release_date         \n",
       " :revenue              \n",
       " :runtime              \n",
       " :spoken_languages     \n",
       " :status               \n",
       " :tagline              \n",
       " :title                \n",
       " :video                \n",
       " :vote_average         \n",
       " :vote_count           "
      ]
     },
     "execution_count": 6,
     "metadata": {},
     "output_type": "execute_result"
    }
   ],
   "source": [
    "names(movies_metadata)"
   ]
  },
  {
   "cell_type": "code",
   "execution_count": 104,
   "metadata": {},
   "outputs": [
    {
     "name": "stdout",
     "output_type": "stream",
     "text": [
      "thread = 1 warning: only found 10 / 24 columns on data row: 19730. Filling remaining columns with `missing`\n",
      "thread = 1 warning: only found 15 / 24 columns on data row: 19731. Filling remaining columns with `missing`\n",
      "thread = 1 warning: only found 10 / 24 columns on data row: 29503. Filling remaining columns with `missing`\n",
      "thread = 1 warning: only found 15 / 24 columns on data row: 29504. Filling remaining columns with `missing`\n",
      "thread = 1 warning: only found 10 / 24 columns on data row: 35587. Filling remaining columns with `missing`\n",
      "thread = 1 warning: only found 15 / 24 columns on data row: 35588. Filling remaining columns with `missing`\n"
     ]
    }
   ],
   "source": [
    "movies_metadata = CSV.read(\"movies_metadata.csv\")\n",
    "budget = movies_metadata[:,:budget];"
   ]
  },
  {
   "cell_type": "code",
   "execution_count": 122,
   "metadata": {},
   "outputs": [],
   "source": [
    "Random.seed!(3)\n",
    "randlist = filter(x -> x != \"0\", movies_metadata[:,:budget])\n",
    "budget_rep = replace(budget, \"/ff9qCepilowshEtG2GYWwzt2bs4.jpg\"=>\"0\")\n",
    "budget_rep = replace(budget_rep, \"/zV8bHuSL6WXoD6FWogP9j4x80bL.jpg\"=>\"0\")\n",
    "budget_rep = replace(budget_rep, \"/zaSf5OG7V8X8gqFvly88zDdRm46.jpg\"=>\"0\")\n",
    "budget_rep = replace(budget_rep, \"0\"=>randlist[rand(1:num_uniq)], NaN=>randlist[rand(1:num_uniq)])\n",
    "budget_repint = parse.(Float64, string.(budget_rep)) / 10^6\n",
    "n = length(budget_repint)\n",
    "budget_feature = zeros(n, 2)\n",
    "for r in 1:n\n",
    "    if budget_repint > 20\n",
    "        budget_feature[r,:] = [1,1]\n",
    "    elseif budget_repint > 1\n",
    "        budget_feature[r,:] = [1,0]\n",
    "    else\n",
    "        budget_feature[r,:] = [0,0]\n",
    "    end\n",
    "end"
   ]
  },
  {
   "cell_type": "code",
   "execution_count": null,
   "metadata": {
    "collapsed": true
   },
   "outputs": [],
   "source": []
  }
 ],
 "metadata": {
  "kernelspec": {
   "display_name": "Julia 1.2.0",
   "language": "julia",
   "name": "julia-1.2"
  },
  "language_info": {
   "file_extension": ".jl",
   "mimetype": "application/julia",
   "name": "julia",
   "version": "1.2.0"
  }
 },
 "nbformat": 4,
 "nbformat_minor": 2
}
