{
 "cells": [
  {
   "cell_type": "markdown",
   "metadata": {},
   "source": [
    "# Preprocess\n"
   ]
  },
  {
   "cell_type": "code",
   "execution_count": 60,
   "metadata": {},
   "outputs": [],
   "source": [
    "using Statistics, LinearAlgebra, Random, DataFrames, Plots, StatsPlots, CSV, JSON, Dates"
   ]
  },
  {
   "cell_type": "code",
   "execution_count": 61,
   "metadata": {},
   "outputs": [
    {
     "name": "stdout",
     "output_type": "stream",
     "text": [
      "thread = 1 warning: only found 10 / 24 columns on data row: 19730. Filling remaining columns with `missing`\n",
      "thread = 1 warning: only found 15 / 24 columns on data row: 19731. Filling remaining columns with `missing`\n",
      "thread = 1 warning: only found 10 / 24 columns on data row: 29503. Filling remaining columns with `missing`\n",
      "thread = 1 warning: only found 15 / 24 columns on data row: 29504. Filling remaining columns with `missing`\n",
      "thread = 1 warning: only found 10 / 24 columns on data row: 35587. Filling remaining columns with `missing`\n",
      "thread = 1 warning: only found 15 / 24 columns on data row: 35588. Filling remaining columns with `missing`\n"
     ]
    },
    {
     "data": {
      "text/html": [
       "<table class=\"data-frame\"><thead><tr><th></th><th>adult</th><th>belongs_to_collection</th></tr><tr><th></th><th>String</th><th>String⍰</th></tr></thead><tbody><p>45,466 rows × 24 columns (omitted printing of 22 columns)</p><tr><th>1</th><td>False</td><td>{'id': 10194, 'name': 'Toy Story Collection', 'poster_path': '/7G9915LfUQ2lVfwMEEhDsn3kT4B.jpg', 'backdrop_path': '/9FBwqcd9IRruEDUrTdcaafOMKUq.jpg'}</td></tr><tr><th>2</th><td>False</td><td>missing</td></tr><tr><th>3</th><td>False</td><td>{'id': 119050, 'name': 'Grumpy Old Men Collection', 'poster_path': '/nLvUdqgPgm3F85NMCii9gVFUcet.jpg', 'backdrop_path': '/hypTnLot2z8wpFS7qwsQHW1uV8u.jpg'}</td></tr><tr><th>4</th><td>False</td><td>missing</td></tr><tr><th>5</th><td>False</td><td>{'id': 96871, 'name': 'Father of the Bride Collection', 'poster_path': '/nts4iOmNnq7GNicycMJ9pSAn204.jpg', 'backdrop_path': '/7qwE57OVZmMJChBpLEbJEmzUydk.jpg'}</td></tr><tr><th>6</th><td>False</td><td>missing</td></tr><tr><th>7</th><td>False</td><td>missing</td></tr><tr><th>8</th><td>False</td><td>missing</td></tr><tr><th>9</th><td>False</td><td>missing</td></tr><tr><th>10</th><td>False</td><td>{'id': 645, 'name': 'James Bond Collection', 'poster_path': '/HORpg5CSkmeQlAolx3bKMrKgfi.jpg', 'backdrop_path': '/6VcVl48kNKvdXOZfJPdarlUGOsk.jpg'}</td></tr><tr><th>11</th><td>False</td><td>missing</td></tr><tr><th>12</th><td>False</td><td>missing</td></tr><tr><th>13</th><td>False</td><td>{'id': 117693, 'name': 'Balto Collection', 'poster_path': '/w0ZgH6Lgxt2bQYnf1ss74UvYftm.jpg', 'backdrop_path': '/9VM5LiJV0bGb1st1KyHA3cVnO2G.jpg'}</td></tr><tr><th>14</th><td>False</td><td>missing</td></tr><tr><th>15</th><td>False</td><td>missing</td></tr><tr><th>16</th><td>False</td><td>missing</td></tr><tr><th>17</th><td>False</td><td>missing</td></tr><tr><th>18</th><td>False</td><td>missing</td></tr><tr><th>19</th><td>False</td><td>{'id': 3167, 'name': 'Ace Ventura Collection', 'poster_path': '/qCxH543pScFed1CycwJ1nVgrkOc.jpg', 'backdrop_path': '/bswWgdDsLu0fhWMYUzLF8XgiK4h.jpg'}</td></tr><tr><th>20</th><td>False</td><td>missing</td></tr><tr><th>21</th><td>False</td><td>{'id': 91698, 'name': 'Chili Palmer Collection', 'poster_path': '/ae3smJDdWrMJ77tDpYOrpo4frKq.jpg', 'backdrop_path': '/uWaANGQeoSs5vSP1CWtlkDrkqei.jpg'}</td></tr><tr><th>22</th><td>False</td><td>missing</td></tr><tr><th>23</th><td>False</td><td>missing</td></tr><tr><th>24</th><td>False</td><td>missing</td></tr><tr><th>25</th><td>False</td><td>missing</td></tr><tr><th>26</th><td>False</td><td>missing</td></tr><tr><th>27</th><td>False</td><td>missing</td></tr><tr><th>28</th><td>False</td><td>missing</td></tr><tr><th>29</th><td>False</td><td>missing</td></tr><tr><th>30</th><td>False</td><td>missing</td></tr><tr><th>&vellip;</th><td>&vellip;</td><td>&vellip;</td></tr></tbody></table>"
      ],
      "text/latex": [
       "\\begin{tabular}{r|ccc}\n",
       "\t& adult & belongs\\_to\\_collection & \\\\\n",
       "\t\\hline\n",
       "\t& String & String⍰ & \\\\\n",
       "\t\\hline\n",
       "\t1 & False & \\{'id': 10194, 'name': 'Toy Story Collection', 'poster\\_path': '/7G9915LfUQ2lVfwMEEhDsn3kT4B.jpg', 'backdrop\\_path': '/9FBwqcd9IRruEDUrTdcaafOMKUq.jpg'\\} & $\\dots$ \\\\\n",
       "\t2 & False &  & $\\dots$ \\\\\n",
       "\t3 & False & \\{'id': 119050, 'name': 'Grumpy Old Men Collection', 'poster\\_path': '/nLvUdqgPgm3F85NMCii9gVFUcet.jpg', 'backdrop\\_path': '/hypTnLot2z8wpFS7qwsQHW1uV8u.jpg'\\} & $\\dots$ \\\\\n",
       "\t4 & False &  & $\\dots$ \\\\\n",
       "\t5 & False & \\{'id': 96871, 'name': 'Father of the Bride Collection', 'poster\\_path': '/nts4iOmNnq7GNicycMJ9pSAn204.jpg', 'backdrop\\_path': '/7qwE57OVZmMJChBpLEbJEmzUydk.jpg'\\} & $\\dots$ \\\\\n",
       "\t6 & False &  & $\\dots$ \\\\\n",
       "\t7 & False &  & $\\dots$ \\\\\n",
       "\t8 & False &  & $\\dots$ \\\\\n",
       "\t9 & False &  & $\\dots$ \\\\\n",
       "\t10 & False & \\{'id': 645, 'name': 'James Bond Collection', 'poster\\_path': '/HORpg5CSkmeQlAolx3bKMrKgfi.jpg', 'backdrop\\_path': '/6VcVl48kNKvdXOZfJPdarlUGOsk.jpg'\\} & $\\dots$ \\\\\n",
       "\t11 & False &  & $\\dots$ \\\\\n",
       "\t12 & False &  & $\\dots$ \\\\\n",
       "\t13 & False & \\{'id': 117693, 'name': 'Balto Collection', 'poster\\_path': '/w0ZgH6Lgxt2bQYnf1ss74UvYftm.jpg', 'backdrop\\_path': '/9VM5LiJV0bGb1st1KyHA3cVnO2G.jpg'\\} & $\\dots$ \\\\\n",
       "\t14 & False &  & $\\dots$ \\\\\n",
       "\t15 & False &  & $\\dots$ \\\\\n",
       "\t16 & False &  & $\\dots$ \\\\\n",
       "\t17 & False &  & $\\dots$ \\\\\n",
       "\t18 & False &  & $\\dots$ \\\\\n",
       "\t19 & False & \\{'id': 3167, 'name': 'Ace Ventura Collection', 'poster\\_path': '/qCxH543pScFed1CycwJ1nVgrkOc.jpg', 'backdrop\\_path': '/bswWgdDsLu0fhWMYUzLF8XgiK4h.jpg'\\} & $\\dots$ \\\\\n",
       "\t20 & False &  & $\\dots$ \\\\\n",
       "\t21 & False & \\{'id': 91698, 'name': 'Chili Palmer Collection', 'poster\\_path': '/ae3smJDdWrMJ77tDpYOrpo4frKq.jpg', 'backdrop\\_path': '/uWaANGQeoSs5vSP1CWtlkDrkqei.jpg'\\} & $\\dots$ \\\\\n",
       "\t22 & False &  & $\\dots$ \\\\\n",
       "\t23 & False &  & $\\dots$ \\\\\n",
       "\t24 & False &  & $\\dots$ \\\\\n",
       "\t25 & False &  & $\\dots$ \\\\\n",
       "\t26 & False &  & $\\dots$ \\\\\n",
       "\t27 & False &  & $\\dots$ \\\\\n",
       "\t28 & False &  & $\\dots$ \\\\\n",
       "\t29 & False &  & $\\dots$ \\\\\n",
       "\t30 & False &  & $\\dots$ \\\\\n",
       "\t$\\dots$ & $\\dots$ & $\\dots$ &  \\\\\n",
       "\\end{tabular}\n"
      ],
      "text/plain": [
       "45466×24 DataFrame. Omitted printing of 23 columns\n",
       "│ Row   │ adult  │\n",
       "│       │ \u001b[90mString\u001b[39m │\n",
       "├───────┼────────┤\n",
       "│ 1     │ False  │\n",
       "│ 2     │ False  │\n",
       "│ 3     │ False  │\n",
       "│ 4     │ False  │\n",
       "│ 5     │ False  │\n",
       "│ 6     │ False  │\n",
       "│ 7     │ False  │\n",
       "│ 8     │ False  │\n",
       "│ 9     │ False  │\n",
       "│ 10    │ False  │\n",
       "⋮\n",
       "│ 45456 │ False  │\n",
       "│ 45457 │ False  │\n",
       "│ 45458 │ False  │\n",
       "│ 45459 │ False  │\n",
       "│ 45460 │ False  │\n",
       "│ 45461 │ False  │\n",
       "│ 45462 │ False  │\n",
       "│ 45463 │ False  │\n",
       "│ 45464 │ False  │\n",
       "│ 45465 │ False  │\n",
       "│ 45466 │ False  │"
      ]
     },
     "execution_count": 61,
     "metadata": {},
     "output_type": "execute_result"
    }
   ],
   "source": [
    "data = CSV.read(\"movies_metadata.csv\")"
   ]
  },
  {
   "cell_type": "code",
   "execution_count": 62,
   "metadata": {},
   "outputs": [
    {
     "data": {
      "text/plain": [
       "45466-element Array{Union{Missing, Float64},1}:\n",
       " 7.7\n",
       " 6.9\n",
       " 6.5\n",
       " 6.1\n",
       " 5.7\n",
       " 7.7\n",
       " 6.2\n",
       " 5.4\n",
       " 5.5\n",
       " 6.6\n",
       " 6.5\n",
       " 5.7\n",
       " 7.1\n",
       " ⋮  \n",
       " 4.0\n",
       " 6.0\n",
       " 6.3\n",
       " 7.0\n",
       " 7.0\n",
       " 3.5\n",
       " 5.7\n",
       " 4.0\n",
       " 9.0\n",
       " 3.8\n",
       " 0.0\n",
       " 0.0"
      ]
     },
     "execution_count": 62,
     "metadata": {},
     "output_type": "execute_result"
    }
   ],
   "source": [
    "y = data[:, :vote_average]"
   ]
  },
  {
   "cell_type": "code",
   "execution_count": 63,
   "metadata": {},
   "outputs": [
    {
     "data": {
      "text/plain": [
       "24-element Array{Symbol,1}:\n",
       " :adult                \n",
       " :belongs_to_collection\n",
       " :budget               \n",
       " :genres               \n",
       " :homepage             \n",
       " :id                   \n",
       " :imdb_id              \n",
       " :original_language    \n",
       " :original_title       \n",
       " :overview             \n",
       " :popularity           \n",
       " :poster_path          \n",
       " :production_companies \n",
       " :production_countries \n",
       " :release_date         \n",
       " :revenue              \n",
       " :runtime              \n",
       " :spoken_languages     \n",
       " :status               \n",
       " :tagline              \n",
       " :title                \n",
       " :video                \n",
       " :vote_average         \n",
       " :vote_count           "
      ]
     },
     "execution_count": 63,
     "metadata": {},
     "output_type": "execute_result"
    }
   ],
   "source": [
    "names(data)"
   ]
  },
  {
   "cell_type": "code",
   "execution_count": 64,
   "metadata": {},
   "outputs": [
    {
     "data": {
      "text/plain": [
       "onehot"
      ]
     },
     "execution_count": 64,
     "metadata": {},
     "output_type": "execute_result"
    }
   ],
   "source": [
    "\"Computes a onehot vector for every entry in column given a set of categories cats\"\n",
    "function onehot(column, cats=unique(column))\n",
    "    result = zeros(size(column)[1], size(cats)[1])\n",
    "    new_cats = Dict()\n",
    "    for (n, f) in enumerate(cats)\n",
    "       new_cats[f] = n\n",
    "    end\n",
    "    \n",
    "    for i in 1:size(column)[1]\n",
    "        index = get(new_cats, column[i], 0)\n",
    "        if index != 0\n",
    "            result[i, index] = 1\n",
    "        end\n",
    "    end\n",
    "    result\n",
    "end"
   ]
  },
  {
   "cell_type": "code",
   "execution_count": 65,
   "metadata": {},
   "outputs": [
    {
     "data": {
      "text/plain": [
       "manyhot"
      ]
     },
     "execution_count": 65,
     "metadata": {},
     "output_type": "execute_result"
    }
   ],
   "source": [
    "\"Computes a manyhot vector for every entry in an array of arrays given a set of categories cats\"\n",
    "function manyhot(column)\n",
    "    cats = Set()\n",
    "    for set in column\n",
    "        for item in set\n",
    "            push!(cats, item)\n",
    "        end\n",
    "    end\n",
    "    cats = unique(cats)\n",
    "    \n",
    "    result = zeros(size(column)[1], size(cats)[1])\n",
    "    new_cats = Dict()\n",
    "    for (n, f) in enumerate(cats)\n",
    "       new_cats[f] = n\n",
    "    end\n",
    "    \n",
    "    for i in 1:size(column)[1]\n",
    "        set_of_descriptions = Set(column[i])\n",
    "        for description in set_of_descriptions\n",
    "            index = get(new_cats, description, 0)\n",
    "            if index != 0\n",
    "                result[i, index] = 1\n",
    "            end\n",
    "        end\n",
    "    end\n",
    "    result\n",
    "end"
   ]
  },
  {
   "cell_type": "markdown",
   "metadata": {},
   "source": [
    "### Preprocess genre using many-hot encoding"
   ]
  },
  {
   "cell_type": "code",
   "execution_count": 66,
   "metadata": {},
   "outputs": [
    {
     "data": {
      "text/plain": [
       "preprocess_json (generic function with 1 method)"
      ]
     },
     "execution_count": 66,
     "metadata": {},
     "output_type": "execute_result"
    }
   ],
   "source": [
    "function preprocess_json(d)\n",
    "    if ismissing(d) || d == \"False\"\n",
    "        return Set()\n",
    "    end\n",
    "    x = d\n",
    "    x = replace(x, \"\\\"\" => \"\\'\")\n",
    "    x = replace(x, \"\\\\xa0\" => \" \")\n",
    "    x = replace(x, \"'name'\" => \"\\\"name\\\"\")\n",
    "    x = replace(x, \"'id'\" => \"\\\"id\\\"\")\n",
    "    x = replace(x, \": '\" => \": \\\"\")\n",
    "    x = replace(x, \"'}\" => \"\\\"}\")\n",
    "    x = replace(x, \"',\" => \"\\\",\")\n",
    "    x = replace(x, \"Orlenok\\\"\" => \"Orlenok'\")\n",
    "    x = replace(x, \"'iso_3166_1'\" => \"\\\"iso_3166_1\\\"\")\n",
    "    result = Set{String}()\n",
    "    try\n",
    "        for dic in JSON.parse(x)\n",
    "            push!(result, dic[\"name\"])\n",
    "        end\n",
    "    catch err\n",
    "        println(d)\n",
    "        println(x)\n",
    "        println(\"=============================\")\n",
    "        return Set()\n",
    "    end\n",
    "    return result\n",
    "end"
   ]
  },
  {
   "cell_type": "code",
   "execution_count": 67,
   "metadata": {},
   "outputs": [
    {
     "data": {
      "text/plain": [
       "45466×32 Array{Float64,2}:\n",
       " 1.0  0.0  0.0  0.0  0.0  0.0  0.0  0.0  …  0.0  0.0  0.0  0.0  0.0  0.0  0.0\n",
       " 1.0  0.0  0.0  0.0  0.0  0.0  0.0  1.0     0.0  0.0  0.0  0.0  0.0  0.0  0.0\n",
       " 0.0  0.0  0.0  0.0  0.0  0.0  0.0  0.0     0.0  0.0  1.0  0.0  0.0  0.0  0.0\n",
       " 0.0  0.0  0.0  0.0  0.0  0.0  0.0  0.0     0.0  0.0  1.0  0.0  0.0  0.0  0.0\n",
       " 0.0  0.0  0.0  0.0  0.0  0.0  0.0  0.0     0.0  0.0  0.0  0.0  0.0  0.0  0.0\n",
       " 0.0  0.0  0.0  0.0  0.0  0.0  1.0  0.0  …  0.0  0.0  0.0  0.0  0.0  1.0  0.0\n",
       " 0.0  0.0  0.0  0.0  0.0  0.0  0.0  0.0     0.0  0.0  1.0  0.0  0.0  0.0  0.0\n",
       " 1.0  0.0  0.0  0.0  0.0  0.0  1.0  1.0     0.0  0.0  0.0  0.0  0.0  0.0  0.0\n",
       " 0.0  0.0  0.0  0.0  0.0  0.0  1.0  1.0     0.0  0.0  0.0  0.0  0.0  0.0  0.0\n",
       " 0.0  0.0  0.0  0.0  0.0  0.0  1.0  1.0     0.0  0.0  0.0  0.0  0.0  0.0  0.0\n",
       " 0.0  0.0  0.0  0.0  0.0  0.0  0.0  0.0  …  0.0  0.0  1.0  0.0  0.0  0.0  0.0\n",
       " 0.0  0.0  0.0  0.0  0.0  0.0  0.0  0.0     0.0  0.0  0.0  0.0  0.0  0.0  0.0\n",
       " 1.0  0.0  0.0  0.0  0.0  0.0  0.0  1.0     0.0  0.0  0.0  0.0  0.0  0.0  0.0\n",
       " ⋮                        ⋮              ⋱  ⋮                        ⋮       \n",
       " 0.0  0.0  0.0  0.0  0.0  0.0  0.0  0.0     0.0  0.0  0.0  0.0  0.0  0.0  0.0\n",
       " 0.0  0.0  0.0  0.0  0.0  0.0  0.0  0.0  …  0.0  0.0  0.0  0.0  0.0  0.0  0.0\n",
       " 0.0  0.0  0.0  0.0  0.0  0.0  0.0  0.0     0.0  0.0  0.0  0.0  0.0  0.0  0.0\n",
       " 0.0  0.0  0.0  0.0  0.0  0.0  0.0  0.0     0.0  0.0  0.0  0.0  0.0  0.0  0.0\n",
       " 0.0  0.0  0.0  0.0  0.0  0.0  0.0  0.0     0.0  0.0  0.0  0.0  0.0  0.0  0.0\n",
       " 0.0  0.0  0.0  0.0  0.0  0.0  0.0  0.0     0.0  0.0  0.0  0.0  0.0  0.0  0.0\n",
       " 0.0  0.0  0.0  0.0  0.0  0.0  1.0  0.0  …  0.0  0.0  1.0  0.0  0.0  0.0  0.0\n",
       " 1.0  0.0  0.0  0.0  0.0  0.0  0.0  0.0     0.0  0.0  0.0  0.0  0.0  0.0  0.0\n",
       " 0.0  0.0  0.0  0.0  0.0  0.0  0.0  0.0     0.0  0.0  0.0  0.0  0.0  0.0  0.0\n",
       " 0.0  0.0  0.0  0.0  0.0  0.0  1.0  0.0     0.0  0.0  0.0  0.0  0.0  0.0  0.0\n",
       " 0.0  0.0  0.0  0.0  0.0  0.0  0.0  0.0     0.0  0.0  0.0  0.0  0.0  0.0  0.0\n",
       " 0.0  0.0  0.0  0.0  0.0  0.0  0.0  0.0  …  0.0  0.0  0.0  0.0  0.0  0.0  0.0"
      ]
     },
     "execution_count": 67,
     "metadata": {},
     "output_type": "execute_result"
    }
   ],
   "source": [
    "genres = manyhot(map(preprocess_json,data[:,:genres]))"
   ]
  },
  {
   "cell_type": "markdown",
   "metadata": {},
   "source": [
    "### Preprocess production company using many-hot encoding"
   ]
  },
  {
   "cell_type": "code",
   "execution_count": 68,
   "metadata": {},
   "outputs": [
    {
     "data": {
      "text/plain": [
       "45466×23537 Array{Float64,2}:\n",
       " 0.0  0.0  0.0  0.0  0.0  0.0  0.0  0.0  …  0.0  0.0  0.0  0.0  0.0  0.0  0.0\n",
       " 0.0  0.0  0.0  0.0  0.0  0.0  0.0  0.0     0.0  0.0  0.0  0.0  0.0  0.0  0.0\n",
       " 0.0  0.0  0.0  0.0  0.0  0.0  0.0  0.0     0.0  0.0  0.0  0.0  0.0  0.0  0.0\n",
       " 0.0  0.0  0.0  0.0  0.0  0.0  0.0  0.0     0.0  0.0  0.0  0.0  0.0  0.0  0.0\n",
       " 0.0  0.0  0.0  0.0  0.0  0.0  0.0  0.0     0.0  0.0  0.0  0.0  0.0  0.0  0.0\n",
       " 0.0  0.0  0.0  0.0  0.0  0.0  0.0  0.0  …  0.0  0.0  0.0  0.0  0.0  0.0  0.0\n",
       " 0.0  0.0  0.0  0.0  0.0  0.0  0.0  0.0     0.0  0.0  0.0  0.0  0.0  0.0  0.0\n",
       " 0.0  0.0  0.0  0.0  0.0  0.0  0.0  0.0     0.0  0.0  0.0  0.0  0.0  0.0  0.0\n",
       " 0.0  0.0  0.0  0.0  0.0  0.0  0.0  0.0     0.0  0.0  0.0  0.0  0.0  0.0  0.0\n",
       " 0.0  0.0  0.0  0.0  0.0  0.0  0.0  0.0     0.0  0.0  0.0  0.0  0.0  0.0  0.0\n",
       " 0.0  0.0  0.0  0.0  0.0  0.0  0.0  0.0  …  0.0  0.0  0.0  0.0  0.0  0.0  0.0\n",
       " 0.0  0.0  0.0  0.0  0.0  0.0  0.0  0.0     0.0  0.0  0.0  0.0  0.0  0.0  0.0\n",
       " 0.0  0.0  0.0  0.0  0.0  0.0  0.0  0.0     0.0  0.0  0.0  0.0  0.0  0.0  0.0\n",
       " ⋮                        ⋮              ⋱  ⋮                        ⋮       \n",
       " 0.0  0.0  0.0  0.0  0.0  0.0  0.0  0.0     0.0  0.0  0.0  0.0  0.0  0.0  0.0\n",
       " 0.0  0.0  0.0  0.0  0.0  0.0  0.0  0.0  …  0.0  0.0  0.0  0.0  0.0  0.0  0.0\n",
       " 0.0  0.0  0.0  0.0  0.0  0.0  0.0  0.0     0.0  0.0  0.0  0.0  0.0  0.0  0.0\n",
       " 0.0  0.0  0.0  0.0  0.0  0.0  0.0  0.0     0.0  0.0  0.0  0.0  0.0  0.0  0.0\n",
       " 0.0  0.0  0.0  0.0  0.0  0.0  0.0  0.0     0.0  0.0  0.0  0.0  0.0  0.0  0.0\n",
       " 0.0  0.0  0.0  0.0  0.0  0.0  0.0  0.0     0.0  0.0  0.0  0.0  0.0  0.0  0.0\n",
       " 0.0  0.0  0.0  0.0  0.0  0.0  0.0  0.0  …  0.0  0.0  0.0  0.0  0.0  0.0  0.0\n",
       " 0.0  0.0  0.0  0.0  0.0  0.0  0.0  0.0     0.0  0.0  0.0  0.0  0.0  0.0  0.0\n",
       " 0.0  0.0  0.0  0.0  0.0  0.0  0.0  0.0     0.0  0.0  0.0  0.0  0.0  0.0  0.0\n",
       " 0.0  0.0  0.0  0.0  0.0  0.0  0.0  0.0     0.0  0.0  0.0  0.0  0.0  0.0  0.0\n",
       " 0.0  0.0  0.0  0.0  0.0  0.0  0.0  0.0     0.0  0.0  0.0  0.0  0.0  0.0  0.0\n",
       " 0.0  0.0  0.0  0.0  0.0  0.0  0.0  0.0  …  0.0  0.0  0.0  0.0  0.0  0.0  0.0"
      ]
     },
     "execution_count": 68,
     "metadata": {},
     "output_type": "execute_result"
    }
   ],
   "source": [
    "production_companies = manyhot(map(preprocess_json,data[:,:production_companies]))"
   ]
  },
  {
   "cell_type": "markdown",
   "metadata": {},
   "source": [
    "There are so many production companies and we don't want to overfit our data, so we exclude it for now."
   ]
  },
  {
   "cell_type": "markdown",
   "metadata": {},
   "source": [
    "### Production countries using many-hot encoding"
   ]
  },
  {
   "cell_type": "code",
   "execution_count": 69,
   "metadata": {},
   "outputs": [
    {
     "name": "stdout",
     "output_type": "stream",
     "text": [
      "4.3\n",
      "4.3\n",
      "=============================\n",
      "6.0\n",
      "6.0\n",
      "=============================\n",
      "7.0\n",
      "7.0\n",
      "=============================\n"
     ]
    },
    {
     "data": {
      "text/plain": [
       "45466×160 Array{Float64,2}:\n",
       " 1.0  0.0  0.0  0.0  0.0  0.0  0.0  0.0  …  0.0  0.0  0.0  0.0  0.0  0.0  0.0\n",
       " 1.0  0.0  0.0  0.0  0.0  0.0  0.0  0.0     0.0  0.0  0.0  0.0  0.0  0.0  0.0\n",
       " 1.0  0.0  0.0  0.0  0.0  0.0  0.0  0.0     0.0  0.0  0.0  0.0  0.0  0.0  0.0\n",
       " 1.0  0.0  0.0  0.0  0.0  0.0  0.0  0.0     0.0  0.0  0.0  0.0  0.0  0.0  0.0\n",
       " 1.0  0.0  0.0  0.0  0.0  0.0  0.0  0.0     0.0  0.0  0.0  0.0  0.0  0.0  0.0\n",
       " 1.0  0.0  0.0  0.0  0.0  0.0  0.0  0.0  …  0.0  0.0  0.0  0.0  0.0  0.0  0.0\n",
       " 1.0  0.0  0.0  0.0  0.0  0.0  0.0  0.0     0.0  0.0  0.0  0.0  0.0  0.0  0.0\n",
       " 1.0  0.0  0.0  0.0  0.0  0.0  0.0  0.0     0.0  0.0  0.0  0.0  0.0  0.0  0.0\n",
       " 1.0  0.0  0.0  0.0  0.0  0.0  0.0  0.0     0.0  0.0  0.0  0.0  0.0  0.0  0.0\n",
       " 1.0  0.0  0.0  0.0  0.0  0.0  0.0  0.0     0.0  0.0  0.0  0.0  0.0  0.0  0.0\n",
       " 1.0  0.0  0.0  0.0  0.0  0.0  0.0  0.0  …  0.0  0.0  0.0  0.0  0.0  0.0  0.0\n",
       " 1.0  0.0  0.0  0.0  0.0  0.0  0.0  0.0     0.0  0.0  0.0  0.0  0.0  0.0  0.0\n",
       " 1.0  0.0  0.0  0.0  0.0  0.0  0.0  0.0     0.0  0.0  0.0  0.0  0.0  0.0  0.0\n",
       " ⋮                        ⋮              ⋱            ⋮                      \n",
       " 1.0  0.0  0.0  0.0  0.0  0.0  0.0  0.0     0.0  0.0  0.0  0.0  0.0  0.0  0.0\n",
       " 0.0  0.0  0.0  0.0  0.0  0.0  0.0  0.0  …  0.0  0.0  0.0  0.0  0.0  0.0  0.0\n",
       " 1.0  0.0  0.0  0.0  0.0  0.0  0.0  0.0     0.0  0.0  0.0  0.0  0.0  0.0  0.0\n",
       " 0.0  0.0  0.0  0.0  0.0  0.0  0.0  0.0     0.0  0.0  0.0  0.0  0.0  0.0  0.0\n",
       " 1.0  0.0  0.0  0.0  0.0  0.0  0.0  0.0     0.0  0.0  0.0  0.0  0.0  0.0  0.0\n",
       " 1.0  0.0  0.0  0.0  0.0  0.0  0.0  0.0     0.0  0.0  0.0  0.0  0.0  0.0  0.0\n",
       " 1.0  0.0  0.0  0.0  0.0  0.0  0.0  0.0  …  0.0  0.0  0.0  0.0  0.0  0.0  0.0\n",
       " 0.0  0.0  0.0  0.0  0.0  0.0  0.0  0.0     0.0  0.0  0.0  0.0  0.0  0.0  0.0\n",
       " 0.0  0.0  0.0  0.0  0.0  0.0  0.0  0.0     0.0  0.0  0.0  0.0  0.0  0.0  0.0\n",
       " 1.0  0.0  0.0  0.0  0.0  0.0  0.0  0.0     0.0  0.0  0.0  0.0  0.0  0.0  0.0\n",
       " 0.0  0.0  0.0  0.0  0.0  0.0  0.0  0.0     0.0  0.0  0.0  0.0  0.0  0.0  0.0\n",
       " 0.0  0.0  0.0  0.0  0.0  0.0  0.0  0.0  …  0.0  0.0  0.0  0.0  0.0  0.0  0.0"
      ]
     },
     "execution_count": 69,
     "metadata": {},
     "output_type": "execute_result"
    }
   ],
   "source": [
    "production_countries = manyhot(map(preprocess_json,data[:,:production_countries]))"
   ]
  },
  {
   "cell_type": "markdown",
   "metadata": {},
   "source": [
    "### Preprocess popularity to float type"
   ]
  },
  {
   "cell_type": "code",
   "execution_count": 70,
   "metadata": {},
   "outputs": [
    {
     "data": {
      "text/plain": [
       "parse_string_to_float (generic function with 1 method)"
      ]
     },
     "execution_count": 70,
     "metadata": {},
     "output_type": "execute_result"
    }
   ],
   "source": [
    "function parse_string_to_float(x)\n",
    "    if ismissing(x)\n",
    "        return 0\n",
    "    end\n",
    "    result = 0\n",
    "    try\n",
    "        result = parse(Float64, x)\n",
    "    catch\n",
    "        println(x)\n",
    "        println(\"=========\")\n",
    "    end\n",
    "    return result\n",
    "end"
   ]
  },
  {
   "cell_type": "code",
   "execution_count": 71,
   "metadata": {},
   "outputs": [
    {
     "name": "stdout",
     "output_type": "stream",
     "text": [
      "Beware Of Frost Bites\n",
      "=========\n"
     ]
    },
    {
     "data": {
      "text/plain": [
       "45466-element Array{Real,1}:\n",
       " 21.946943\n",
       " 17.015539\n",
       " 11.7129  \n",
       "  3.859495\n",
       "  8.387519\n",
       " 17.924927\n",
       "  6.677277\n",
       "  2.561161\n",
       "  5.23158 \n",
       " 14.686036\n",
       "  6.318445\n",
       "  5.430331\n",
       " 12.140733\n",
       "  ⋮       \n",
       "  0.139936\n",
       "  0.225051\n",
       "  0.222814\n",
       "  0.076061\n",
       "  0.38645 \n",
       "  0.661558\n",
       "  5.683753\n",
       "  0.072051\n",
       "  0.178241\n",
       "  0.903007\n",
       "  0.003503\n",
       "  0.163015"
      ]
     },
     "execution_count": 71,
     "metadata": {},
     "output_type": "execute_result"
    }
   ],
   "source": [
    "popularity = map(parse_string_to_float,data[:,:popularity])"
   ]
  },
  {
   "cell_type": "markdown",
   "metadata": {},
   "source": [
    "### Preprocess budget with boolean encoding"
   ]
  },
  {
   "cell_type": "code",
   "execution_count": 72,
   "metadata": {},
   "outputs": [],
   "source": [
    "budget = data[:,:budget]\n",
    "Random.seed!(3)\n",
    "randlist = filter(x -> x != \"0\", data[:,:budget])\n",
    "rand_num = length(randlist)\n",
    "budget_rep = replace(budget, \"/ff9qCepilowshEtG2GYWwzt2bs4.jpg\"=>\"0\")\n",
    "budget_rep = replace(budget_rep, \"/zV8bHuSL6WXoD6FWogP9j4x80bL.jpg\"=>\"0\")\n",
    "budget_rep = replace(budget_rep, \"/zaSf5OG7V8X8gqFvly88zDdRm46.jpg\"=>\"0\")\n",
    "budget_rep = replace(budget_rep, \"0\"=>randlist[rand(1:rand_num)], NaN=>randlist[rand(1:rand_num)])\n",
    "budget_repint = parse.(Float64, string.(budget_rep)) / 10^6\n",
    "n = length(budget_repint)\n",
    "budget_feature = zeros(n, 2)\n",
    "for r in 1:n\n",
    "    if budget_repint[r] > 20\n",
    "        budget_feature[r,:] = [1,1]\n",
    "    elseif budget_repint[r] > 1\n",
    "        budget_feature[r,:] = [1,0]\n",
    "    else\n",
    "        budget_feature[r,:] = [0,0]\n",
    "    end\n",
    "end"
   ]
  },
  {
   "cell_type": "code",
   "execution_count": 73,
   "metadata": {},
   "outputs": [
    {
     "data": {
      "text/plain": [
       "1.8248141468349977"
      ]
     },
     "execution_count": 73,
     "metadata": {},
     "output_type": "execute_result"
    }
   ],
   "source": [
    "sum(budget_feature)/45466"
   ]
  },
  {
   "cell_type": "markdown",
   "metadata": {},
   "source": [
    "### Preprocess runtime using boolean encoding, change missing to mean value"
   ]
  },
  {
   "cell_type": "code",
   "execution_count": 74,
   "metadata": {},
   "outputs": [
    {
     "data": {
      "text/plain": [
       "45466×3 Array{Float64,2}:\n",
       " 0.0  0.0  0.0\n",
       " 1.0  1.0  0.0\n",
       " 1.0  1.0  0.0\n",
       " 1.0  1.0  1.0\n",
       " 1.0  1.0  0.0\n",
       " 1.0  1.0  1.0\n",
       " 1.0  1.0  1.0\n",
       " 1.0  1.0  0.0\n",
       " 1.0  1.0  0.0\n",
       " 1.0  1.0  1.0\n",
       " 1.0  1.0  0.0\n",
       " 1.0  0.0  0.0\n",
       " 0.0  0.0  0.0\n",
       " ⋮            \n",
       " 0.0  0.0  0.0\n",
       " 1.0  0.0  0.0\n",
       " 0.0  0.0  0.0\n",
       " 0.0  0.0  0.0\n",
       " 0.0  0.0  0.0\n",
       " 0.0  0.0  0.0\n",
       " 1.0  1.0  0.0\n",
       " 1.0  0.0  0.0\n",
       " 1.0  1.0  1.0\n",
       " 1.0  0.0  0.0\n",
       " 1.0  0.0  0.0\n",
       " 0.0  0.0  0.0"
      ]
     },
     "execution_count": 74,
     "metadata": {},
     "output_type": "execute_result"
    }
   ],
   "source": [
    "time = data[:, :runtime]\n",
    "valid = filter(x -> ! ismissing(x), time)\n",
    "mean_val = mean(valid)\n",
    "for i in 1:size(time, 1)\n",
    "    if ismissing(time[i]) || time[i] == 0\n",
    "        time[i] = mean_val\n",
    "    end\n",
    "end\n",
    "\n",
    "min_val = minimum(time)\n",
    "max_val = maximum(time)\n",
    "q_val = quantile(time, [0.25, 0.5, 0.75])\n",
    "\n",
    "runtime = zeros(size(time, 1), 3) # the new matrix with many code\n",
    "for i in 1:size(time, 1)\n",
    "    t = time[i]\n",
    "    runtime[i, :] = Int.([t>=q_val[1], t>=q_val[2], t>=q_val[3]])\n",
    "end\n",
    "runtime"
   ]
  },
  {
   "cell_type": "markdown",
   "metadata": {},
   "source": [
    "### Preprocess runtime using one-hot encoding on month/quarter"
   ]
  },
  {
   "cell_type": "code",
   "execution_count": 75,
   "metadata": {},
   "outputs": [
    {
     "data": {
      "text/plain": [
       "45466×4 Array{Float64,2}:\n",
       " 0.0  0.0  0.0  1.0\n",
       " 0.0  0.0  0.0  1.0\n",
       " 0.0  0.0  0.0  1.0\n",
       " 0.0  0.0  0.0  1.0\n",
       " 1.0  0.0  0.0  0.0\n",
       " 0.0  0.0  0.0  1.0\n",
       " 0.0  0.0  0.0  1.0\n",
       " 0.0  0.0  0.0  1.0\n",
       " 0.0  0.0  0.0  1.0\n",
       " 0.0  0.0  0.0  1.0\n",
       " 0.0  0.0  0.0  1.0\n",
       " 0.0  0.0  0.0  1.0\n",
       " 0.0  0.0  0.0  1.0\n",
       " ⋮                 \n",
       " 1.0  0.0  0.0  0.0\n",
       " 1.0  0.0  0.0  0.0\n",
       " 1.0  0.0  0.0  0.0\n",
       " 0.0  0.0  0.0  1.0\n",
       " 0.0  0.0  0.0  1.0\n",
       " 1.0  0.0  0.0  0.0\n",
       " 0.0  1.0  0.0  0.0\n",
       " 0.0  0.0  0.0  1.0\n",
       " 0.0  0.0  0.0  1.0\n",
       " 0.0  0.0  1.0  0.0\n",
       " 0.0  0.0  0.0  1.0\n",
       " 0.0  1.0  0.0  0.0"
      ]
     },
     "execution_count": 75,
     "metadata": {},
     "output_type": "execute_result"
    }
   ],
   "source": [
    "date = data[:, :release_date]\n",
    "months = Int.(zeros(size(date, 1)))\n",
    "for i in 1:size(date, 1)\n",
    "    x = date[i]\n",
    "    if ismissing(x)\n",
    "        months[i] = rand(1:12,1)[1]\n",
    "    else\n",
    "        months[i] = Dates.month(x)\n",
    "    end\n",
    "end\n",
    "\n",
    "release_date = zeros(size(months, 1), 4)\n",
    "for i in 1:length(months)\n",
    "    d = months[i]\n",
    "    release_date[i, :] = Int.([d in 1:3, d in 4:6, d in 7:9, d in 10:12])\n",
    "end\n",
    "release_date"
   ]
  },
  {
   "cell_type": "markdown",
   "metadata": {},
   "source": [
    "# Experiment"
   ]
  },
  {
   "cell_type": "code",
   "execution_count": 76,
   "metadata": {},
   "outputs": [
    {
     "data": {
      "text/plain": [
       "45466-element Array{Real,1}:\n",
       " 7.7\n",
       " 6.9\n",
       " 6.5\n",
       " 6.1\n",
       " 5.7\n",
       " 7.7\n",
       " 6.2\n",
       " 5.4\n",
       " 5.5\n",
       " 6.6\n",
       " 6.5\n",
       " 5.7\n",
       " 7.1\n",
       " ⋮  \n",
       " 4.0\n",
       " 6.0\n",
       " 6.3\n",
       " 7.0\n",
       " 7.0\n",
       " 3.5\n",
       " 5.7\n",
       " 4.0\n",
       " 9.0\n",
       " 3.8\n",
       " 0.0\n",
       " 0.0"
      ]
     },
     "execution_count": 76,
     "metadata": {},
     "output_type": "execute_result"
    }
   ],
   "source": [
    "y = map(z -> ismissing(z) ? 0 : z, y)"
   ]
  },
  {
   "cell_type": "markdown",
   "metadata": {},
   "source": [
    "### Separate data into training and test dataset"
   ]
  },
  {
   "cell_type": "code",
   "execution_count": 100,
   "metadata": {},
   "outputs": [
    {
     "data": {
      "text/plain": [
       "separate_dataset (generic function with 1 method)"
      ]
     },
     "execution_count": 100,
     "metadata": {},
     "output_type": "execute_result"
    }
   ],
   "source": [
    "function separate_dataset(y, dataset)\n",
    "    new_dataset = hcat(y, dataset)\n",
    "    new_dataset = new_dataset[shuffle(1:end), :]\n",
    "    \n",
    "    train_proportion = 0.8\n",
    "    n = size(dataset, 1)\n",
    "    println(\"Size of dataset: \", string(n))\n",
    "    \n",
    "    ntrain = convert(Int, round(train_proportion*n))\n",
    "\n",
    "    target = new_dataset[:, 1]\n",
    "    train_x = new_dataset[1:ntrain, 2:size(dataset, 2)]\n",
    "    test_x = new_dataset[ntrain+1:n, 2:size(dataset, 2)]\n",
    "    train_y = target[1:ntrain, :]\n",
    "    test_y = target[ntrain+1:n, :]\n",
    "    return train_x, train_y, test_x, test_y\n",
    "end"
   ]
  },
  {
   "cell_type": "markdown",
   "metadata": {},
   "source": [
    "### Calculate least square"
   ]
  },
  {
   "cell_type": "code",
   "execution_count": 78,
   "metadata": {},
   "outputs": [
    {
     "data": {
      "text/plain": [
       "plot_pred_true"
      ]
     },
     "execution_count": 78,
     "metadata": {},
     "output_type": "execute_result"
    }
   ],
   "source": [
    "\"\"\"This function just computes the mean squared error.\"\"\"\n",
    "function MSE(y, pred)\n",
    "    n = size(y)[1]\n",
    "    err = 0\n",
    "    for i in 1:n\n",
    "        err += (y[i] - pred[i])^2\n",
    "    end\n",
    "    return err/n\n",
    "end\n",
    "\n",
    "\"\"\"This function plots the main diagonal; \n",
    "for a \"predicted vs true\" plot with perfect predictions,\n",
    "all data lies on this line\"\"\"\n",
    "function plotDiagonal(xmin, xmax)\n",
    "    xsamples = [xmin, xmax]\n",
    "    plot!(xsamples, xsamples, color=:black)\n",
    "end\n",
    "\n",
    "\"\"\"This helper funciton plots x vs, y and labels the axes.\"\"\"\n",
    "function plotdata(x,y,xname, yname; margin=.05, plotDiag=true, zeromin=false)\n",
    "    scatter(x,y, label=\"data\")\n",
    "    xlabel!(xname)\n",
    "    ylabel!(yname)\n",
    "    range_y = maximum(y) - minimum(y)\n",
    "    range_x = maximum(x) - minimum(x)\n",
    "    if plotDiag\n",
    "        plotDiagonal(minimum(x)-margin*range_x, maximum(x)+margin*range_x)\n",
    "    end\n",
    "    if zeromin\n",
    "        ylims!((0.0,maximum(y)+margin*range_y))\n",
    "        xlims!((0.0,maximum(x)+margin*range_x))\n",
    "    else\n",
    "        ylims!((minimum(y)-margin*range_y,maximum(y)+margin*range_y))\n",
    "        xlims!((minimum(x)-margin*range_x,maximum(x)+margin*range_x))\n",
    "    end\n",
    "end\n",
    "\n",
    "\"\"\"This function plots the predicted labels vs the actual labels\n",
    "(We only plots the first 1000 points to avoid slow plots.)\"\"\"\n",
    "function plot_pred_true(test_pred, test_y, max_points = 1000)\n",
    "    plotdata(test_pred[1:max_points], test_y[1:max_points], \"Predicted (\\$)\", \"True (\\$)\", zeromin=true)\n",
    "end"
   ]
  },
  {
   "cell_type": "code",
   "execution_count": 79,
   "metadata": {},
   "outputs": [
    {
     "data": {
      "text/plain": [
       "calculate_MSE (generic function with 1 method)"
      ]
     },
     "execution_count": 79,
     "metadata": {},
     "output_type": "execute_result"
    }
   ],
   "source": [
    "function calculate_MSE(train_x, train_y, test_x, test_y)\n",
    "    # The weights of your linear equation (compute via least squares)\n",
    "    w = train_x\\train_y\n",
    "\n",
    "    train_pred = train_x*w\n",
    "    test_pred = test_x*w\n",
    "\n",
    "    train_MSE = MSE(train_y, train_pred)\n",
    "    test_MSE = MSE(test_y, test_pred)\n",
    "    \n",
    "    println(\"Train MSE\\t\", train_MSE)\n",
    "    println(\"Test MSE \\t\", test_MSE)\n",
    "    return test_pred\n",
    "end"
   ]
  },
  {
   "cell_type": "markdown",
   "metadata": {},
   "source": [
    "### First, let's try all the small features to avoid overfitting (exclude production countries and production companies)"
   ]
  },
  {
   "cell_type": "code",
   "execution_count": 101,
   "metadata": {},
   "outputs": [
    {
     "name": "stdout",
     "output_type": "stream",
     "text": [
      "Size of dataset: 45466\n",
      "Train MSE\t3.4831746186395947\n",
      "Test MSE \t3.3538885691769478\n"
     ]
    },
    {
     "data": {
      "text/plain": [
       "9093×1 Array{Any,2}:\n",
       " 5.556680582948648 \n",
       " 6.259550551663693 \n",
       " 5.469261530351277 \n",
       " 6.008827495160706 \n",
       " 4.743734409617135 \n",
       " 5.729618579227725 \n",
       " 6.225476294629596 \n",
       " 6.052469234584286 \n",
       " 5.666910661232216 \n",
       " 5.110609582122738 \n",
       " 5.494207214970569 \n",
       " 5.294645265900871 \n",
       " 5.146207765900871 \n",
       " ⋮                 \n",
       " 5.831352665071385 \n",
       " 4.939758376118801 \n",
       " 6.156456516966938 \n",
       " 5.7245883878154835\n",
       " 4.9239581411263185\n",
       " 5.411625805763454 \n",
       " 4.6710099165384955\n",
       " 5.773631965035326 \n",
       " 5.2130143302354   \n",
       " 5.086253374528389 \n",
       " 5.626993082948648 \n",
       " 5.301421401643715 "
      ]
     },
     "execution_count": 101,
     "metadata": {},
     "output_type": "execute_result"
    }
   ],
   "source": [
    "dataset = hcat(ones(size(data,1)), budget_feature, popularity, release_date, runtime, genres)\n",
    "train_x, train_y, test_x, test_y = separate_dataset(y, dataset)\n",
    "test_pred = calculate_MSE(train_x, train_y, test_x, test_y)"
   ]
  },
  {
   "cell_type": "markdown",
   "metadata": {},
   "source": [
    "### Let's then try without genre which has 32 columns"
   ]
  },
  {
   "cell_type": "code",
   "execution_count": 102,
   "metadata": {},
   "outputs": [
    {
     "name": "stdout",
     "output_type": "stream",
     "text": [
      "(45466, 11)\n",
      "Size of dataset: 45466\n",
      "Train MSE\t3.516125452018061\n",
      "Test MSE \t3.5369140582835943\n"
     ]
    },
    {
     "data": {
      "text/plain": [
       "9093×1 Array{Any,2}:\n",
       " 5.878927203562704\n",
       " 5.730489703562704\n",
       " 5.800802203562704\n",
       " 6.339864703562704\n",
       " 5.007460127236646\n",
       " 5.753927203562704\n",
       " 5.202772627236646\n",
       " 5.847677203562704\n",
       " 5.699239703562704\n",
       " 5.328125         \n",
       " 6.121114703562704\n",
       " 5.312147627236646\n",
       " 5.28125          \n",
       " ⋮                \n",
       " 6.042989703562704\n",
       " 5.917989703562704\n",
       " 5.777364703562704\n",
       " 5.257460127236646\n",
       " 5.871114703562704\n",
       " 5.257460127236646\n",
       " 5.707052203562704\n",
       " 6.285177203562704\n",
       " 5.249647627236646\n",
       " 5.155897627236646\n",
       " 5.2421875        \n",
       " 5.660177203562704"
      ]
     },
     "execution_count": 102,
     "metadata": {},
     "output_type": "execute_result"
    }
   ],
   "source": [
    "dataset = hcat(ones(size(data,1)), budget_feature, popularity, release_date, runtime)\n",
    "println(size(dataset))\n",
    "train_x, train_y, test_x, test_y = separate_dataset(y, dataset)\n",
    "test_pred = calculate_MSE(train_x, train_y, test_x, test_y)"
   ]
  },
  {
   "cell_type": "markdown",
   "metadata": {},
   "source": [
    "### Since the result with genres in the feature set does better than without, let's try adding production countries (160 columns)"
   ]
  },
  {
   "cell_type": "code",
   "execution_count": 109,
   "metadata": {},
   "outputs": [
    {
     "name": "stdout",
     "output_type": "stream",
     "text": [
      "(45466, 161)\n",
      "Size of dataset: 45466\n"
     ]
    },
    {
     "ename": "SingularException",
     "evalue": "SingularException(160)",
     "output_type": "error",
     "traceback": [
      "SingularException(160)",
      "",
      "Stacktrace:",
      " [1] naivesub!(::UpperTriangular{Real,SubArray{Real,2,Array{Real,2},Tuple{Base.Slice{Base.OneTo{Int64}},UnitRange{Int64}},true}}, ::Array{Real,1}, ::Array{Real,1}) at /Users/sabae/buildbot/worker/package_macos64/build/usr/share/julia/stdlib/v1.2/LinearAlgebra/src/triangular.jl:1193",
      " [2] naivesub! at /Users/sabae/buildbot/worker/package_macos64/build/usr/share/julia/stdlib/v1.2/LinearAlgebra/src/triangular.jl:1187 [inlined]",
      " [3] ldiv! at /Users/sabae/buildbot/worker/package_macos64/build/usr/share/julia/stdlib/v1.2/LinearAlgebra/src/bidiag.jl:577 [inlined]",
      " [4] ldiv!(::UpperTriangular{Real,SubArray{Real,2,Array{Real,2},Tuple{Base.Slice{Base.OneTo{Int64}},UnitRange{Int64}},true}}, ::SubArray{Real,2,Array{Real,2},Tuple{UnitRange{Int64},Base.Slice{Base.OneTo{Int64}}},false}) at /Users/sabae/buildbot/worker/package_macos64/build/usr/share/julia/stdlib/v1.2/LinearAlgebra/src/bidiag.jl:590",
      " [5] ldiv!(::QR{Real,Array{Real,2}}, ::Array{Real,2}) at /Users/sabae/buildbot/worker/package_macos64/build/usr/share/julia/stdlib/v1.2/LinearAlgebra/src/qr.jl:811",
      " [6] ldiv!(::QRPivoted{Real,Array{Real,2}}, ::Array{Real,2}) at /Users/sabae/buildbot/worker/package_macos64/build/usr/share/julia/stdlib/v1.2/LinearAlgebra/src/qr.jl:838",
      " [7] \\(::QRPivoted{Float64,Array{Float64,2}}, ::Array{Real,2}) at /Users/sabae/buildbot/worker/package_macos64/build/usr/share/julia/stdlib/v1.2/LinearAlgebra/src/qr.jl:863",
      " [8] \\(::Array{Real,2}, ::Array{Real,2}) at /Users/sabae/buildbot/worker/package_macos64/build/usr/share/julia/stdlib/v1.2/LinearAlgebra/src/generic.jl:972",
      " [9] calculate_MSE(::Array{Real,2}, ::Array{Real,2}, ::Array{Real,2}, ::Array{Real,2}) at ./In[79]:3",
      " [10] top-level scope at In[109]:4"
     ]
    }
   ],
   "source": [
    "dataset = hcat(ones(size(data,1)), production_countries)\n",
    "println(size(dataset))\n",
    "train_x, train_y, test_x, test_y = separate_dataset(y, dataset)\n",
    "test_pred = calculate_MSE(train_x, train_y, test_x, test_y)"
   ]
  },
  {
   "cell_type": "code",
   "execution_count": 162,
   "metadata": {},
   "outputs": [
    {
     "data": {
      "text/plain": [
       "QRPivoted{Float64,Array{Float64,2}}\n",
       "Q factor:\n",
       "45466×45466 LinearAlgebra.QRPackedQ{Float64,Array{Float64,2}}:\n",
       " -0.00687565  -0.000809416  -0.000268892  …  -0.000239043  -1.05058e-5 \n",
       " -0.00687565  -0.000809416  -0.000268892     -7.51847e-5    0.0157091  \n",
       " -0.00687565  -0.000809416  -0.000268892     -1.19805e-5   -0.00154452 \n",
       " -0.00687565  -0.000809416  -0.000268892     -1.32786e-5   -0.00136451 \n",
       " -0.00687565  -0.000809416  -0.000268892      9.47434e-6   -0.000236983\n",
       " -0.00687565  -0.000809416  -0.000268892  …  -2.43122e-5   -0.000577174\n",
       " -0.00687565  -0.000809416  -0.000268892     -1.23647e-7   -0.000180694\n",
       " -0.00687565  -0.000809416  -0.000268892     -6.32187e-6   -0.000415827\n",
       " -0.00687565  -0.000809416  -0.000268892      0.0331256    -1.39416e-5 \n",
       " -0.00687565   0.0149273    -0.00180249       1.44981e-5   -0.000499399\n",
       " -0.00687565  -0.000809416  -0.000268892  …  -7.79179e-5   -3.80673e-5 \n",
       " -0.00687565  -0.000809416   0.0157582       -0.000205028  -0.000166957\n",
       " -0.00687565  -0.000809416  -0.000268892     -2.3378e-5    -0.000602927\n",
       "  ⋮                                       ⋱                 ⋮          \n",
       " -0.00687565  -0.000809416  -0.000268892     -5.17296e-7    1.04357e-5 \n",
       "  0.0          0.0           0.0          …   0.0           0.0        \n",
       " -0.00687565  -0.000809416  -0.000268892     -5.17296e-7    1.04357e-5 \n",
       "  0.0          0.0           0.0              0.0           0.0        \n",
       " -0.00687565  -0.000809416  -0.000268892     -5.17296e-7    1.04357e-5 \n",
       " -0.00687565  -0.000809416  -0.000268892     -5.17289e-7    1.04357e-5 \n",
       " -0.00687565   0.0149273    -0.00180249   …   9.86894e-6   -0.000209952\n",
       "  0.0          0.0           0.0             -9.7019e-6     5.31848e-7 \n",
       "  0.0          0.0           0.0             -6.33566e-7   -2.40777e-6 \n",
       " -0.00687565  -0.000809416  -0.000268892     -5.17288e-7    1.04357e-5 \n",
       "  0.0          0.0           0.0              0.998867      4.03197e-7 \n",
       "  0.0          0.0157367    -0.0015336    …   1.46025e-6    0.999742   \n",
       "R factor:\n",
       "160×160 Array{Float64,2}:\n",
       " -145.441  -7.48071  -3.15593  -3.82974  …  -0.00687565   -0.00687565 \n",
       "    0.0    63.5456    6.08054   4.74228      0.0149273    -0.000809416\n",
       "    0.0     0.0      62.3944    7.40576     -0.00180249   -0.000268892\n",
       "    0.0     0.0       0.0      46.4973      -0.00180167   -0.000440932\n",
       "    0.0     0.0       0.0       0.0          0.0217745    -9.6943e-5  \n",
       "    0.0     0.0       0.0       0.0      …  -0.00111636   -0.000672065\n",
       "    0.0     0.0       0.0       0.0         -0.000354528  -0.000179745\n",
       "    0.0     0.0       0.0       0.0         -0.00324779   -8.95746e-5 \n",
       "    0.0     0.0       0.0       0.0         -0.000220867  -3.88205e-5 \n",
       "    0.0     0.0       0.0       0.0          0.0344557    -4.92092e-5 \n",
       "    0.0     0.0       0.0       0.0      …  -0.00022914   -0.000102674\n",
       "    0.0     0.0       0.0       0.0          0.041039     -3.28105e-6 \n",
       "    0.0     0.0       0.0       0.0         -0.00105201    0.041735   \n",
       "    ⋮                                    ⋱                            \n",
       "    0.0     0.0       0.0       0.0         -0.00109268    4.4987e-5  \n",
       "    0.0     0.0       0.0       0.0          5.87547e-5   -1.41657e-5 \n",
       "    0.0     0.0       0.0       0.0      …  -3.04416e-5   -0.000154153\n",
       "    0.0     0.0       0.0       0.0          0.00173991   -5.33768e-5 \n",
       "    0.0     0.0       0.0       0.0          3.89495e-5    1.84346e-5 \n",
       "    0.0     0.0       0.0       0.0          0.000848743   0.000250086\n",
       "    0.0     0.0       0.0       0.0         -0.00289489    0.000350307\n",
       "    0.0     0.0       0.0       0.0      …   0.0014185    -0.0916577  \n",
       "    0.0     0.0       0.0       0.0         -0.00396512   -0.874376   \n",
       "    0.0     0.0       0.0       0.0          0.000332553   2.88175e-19\n",
       "    0.0     0.0       0.0       0.0         -0.69952       3.0865e-19 \n",
       "    0.0     0.0       0.0       0.0          0.0          -8.78003e-15\n",
       "permutation:\n",
       "160-element Array{Int64,1}:\n",
       "   1\n",
       " 115\n",
       " 113\n",
       "  33\n",
       " 101\n",
       "  81\n",
       "  80\n",
       "  58\n",
       "  15\n",
       "  60\n",
       "  23\n",
       "  78\n",
       " 118\n",
       "   ⋮\n",
       " 159\n",
       "  28\n",
       " 125\n",
       "  47\n",
       "  16\n",
       " 144\n",
       "  95\n",
       " 128\n",
       "  21\n",
       "  19\n",
       "  36\n",
       "  38"
      ]
     },
     "execution_count": 162,
     "metadata": {},
     "output_type": "execute_result"
    }
   ],
   "source": [
    "factorize(production_countries)"
   ]
  },
  {
   "cell_type": "code",
   "execution_count": null,
   "metadata": {},
   "outputs": [],
   "source": []
  }
 ],
 "metadata": {
  "kernelspec": {
   "display_name": "Julia 1.2.0",
   "language": "julia",
   "name": "julia-1.2"
  },
  "language_info": {
   "file_extension": ".jl",
   "mimetype": "application/julia",
   "name": "julia",
   "version": "1.2.0"
  }
 },
 "nbformat": 4,
 "nbformat_minor": 2
}
