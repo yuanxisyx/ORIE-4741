{
 "cells": [
  {
   "cell_type": "markdown",
   "metadata": {},
   "source": [
    "# Preprocess\n"
   ]
  },
  {
   "cell_type": "code",
   "execution_count": 33,
   "metadata": {},
   "outputs": [],
   "source": [
    "using Statistics, LinearAlgebra, Random, DataFrames, Plots, StatsPlots, CSV, JSON, Dates"
   ]
  },
  {
   "cell_type": "code",
   "execution_count": 2,
   "metadata": {},
   "outputs": [
    {
     "name": "stdout",
     "output_type": "stream",
     "text": [
      "thread = 1 warning: only found 10 / 24 columns on data row: 19730. Filling remaining columns with `missing`\n",
      "thread = 1 warning: only found 15 / 24 columns on data row: 19731. Filling remaining columns with `missing`\n",
      "thread = 1 warning: only found 10 / 24 columns on data row: 29503. Filling remaining columns with `missing`\n",
      "thread = 1 warning: only found 15 / 24 columns on data row: 29504. Filling remaining columns with `missing`\n",
      "thread = 1 warning: only found 10 / 24 columns on data row: 35587. Filling remaining columns with `missing`\n",
      "thread = 1 warning: only found 15 / 24 columns on data row: 35588. Filling remaining columns with `missing`\n"
     ]
    },
    {
     "data": {
      "text/html": [
       "<table class=\"data-frame\"><thead><tr><th></th><th>adult</th><th>belongs_to_collection</th></tr><tr><th></th><th>String</th><th>String⍰</th></tr></thead><tbody><p>45,466 rows × 24 columns (omitted printing of 22 columns)</p><tr><th>1</th><td>False</td><td>{'id': 10194, 'name': 'Toy Story Collection', 'poster_path': '/7G9915LfUQ2lVfwMEEhDsn3kT4B.jpg', 'backdrop_path': '/9FBwqcd9IRruEDUrTdcaafOMKUq.jpg'}</td></tr><tr><th>2</th><td>False</td><td>missing</td></tr><tr><th>3</th><td>False</td><td>{'id': 119050, 'name': 'Grumpy Old Men Collection', 'poster_path': '/nLvUdqgPgm3F85NMCii9gVFUcet.jpg', 'backdrop_path': '/hypTnLot2z8wpFS7qwsQHW1uV8u.jpg'}</td></tr><tr><th>4</th><td>False</td><td>missing</td></tr><tr><th>5</th><td>False</td><td>{'id': 96871, 'name': 'Father of the Bride Collection', 'poster_path': '/nts4iOmNnq7GNicycMJ9pSAn204.jpg', 'backdrop_path': '/7qwE57OVZmMJChBpLEbJEmzUydk.jpg'}</td></tr><tr><th>6</th><td>False</td><td>missing</td></tr><tr><th>7</th><td>False</td><td>missing</td></tr><tr><th>8</th><td>False</td><td>missing</td></tr><tr><th>9</th><td>False</td><td>missing</td></tr><tr><th>10</th><td>False</td><td>{'id': 645, 'name': 'James Bond Collection', 'poster_path': '/HORpg5CSkmeQlAolx3bKMrKgfi.jpg', 'backdrop_path': '/6VcVl48kNKvdXOZfJPdarlUGOsk.jpg'}</td></tr><tr><th>11</th><td>False</td><td>missing</td></tr><tr><th>12</th><td>False</td><td>missing</td></tr><tr><th>13</th><td>False</td><td>{'id': 117693, 'name': 'Balto Collection', 'poster_path': '/w0ZgH6Lgxt2bQYnf1ss74UvYftm.jpg', 'backdrop_path': '/9VM5LiJV0bGb1st1KyHA3cVnO2G.jpg'}</td></tr><tr><th>14</th><td>False</td><td>missing</td></tr><tr><th>15</th><td>False</td><td>missing</td></tr><tr><th>16</th><td>False</td><td>missing</td></tr><tr><th>17</th><td>False</td><td>missing</td></tr><tr><th>18</th><td>False</td><td>missing</td></tr><tr><th>19</th><td>False</td><td>{'id': 3167, 'name': 'Ace Ventura Collection', 'poster_path': '/qCxH543pScFed1CycwJ1nVgrkOc.jpg', 'backdrop_path': '/bswWgdDsLu0fhWMYUzLF8XgiK4h.jpg'}</td></tr><tr><th>20</th><td>False</td><td>missing</td></tr><tr><th>21</th><td>False</td><td>{'id': 91698, 'name': 'Chili Palmer Collection', 'poster_path': '/ae3smJDdWrMJ77tDpYOrpo4frKq.jpg', 'backdrop_path': '/uWaANGQeoSs5vSP1CWtlkDrkqei.jpg'}</td></tr><tr><th>22</th><td>False</td><td>missing</td></tr><tr><th>23</th><td>False</td><td>missing</td></tr><tr><th>24</th><td>False</td><td>missing</td></tr><tr><th>25</th><td>False</td><td>missing</td></tr><tr><th>26</th><td>False</td><td>missing</td></tr><tr><th>27</th><td>False</td><td>missing</td></tr><tr><th>28</th><td>False</td><td>missing</td></tr><tr><th>29</th><td>False</td><td>missing</td></tr><tr><th>30</th><td>False</td><td>missing</td></tr><tr><th>&vellip;</th><td>&vellip;</td><td>&vellip;</td></tr></tbody></table>"
      ],
      "text/latex": [
       "\\begin{tabular}{r|ccc}\n",
       "\t& adult & belongs\\_to\\_collection & \\\\\n",
       "\t\\hline\n",
       "\t& String & String⍰ & \\\\\n",
       "\t\\hline\n",
       "\t1 & False & \\{'id': 10194, 'name': 'Toy Story Collection', 'poster\\_path': '/7G9915LfUQ2lVfwMEEhDsn3kT4B.jpg', 'backdrop\\_path': '/9FBwqcd9IRruEDUrTdcaafOMKUq.jpg'\\} & $\\dots$ \\\\\n",
       "\t2 & False &  & $\\dots$ \\\\\n",
       "\t3 & False & \\{'id': 119050, 'name': 'Grumpy Old Men Collection', 'poster\\_path': '/nLvUdqgPgm3F85NMCii9gVFUcet.jpg', 'backdrop\\_path': '/hypTnLot2z8wpFS7qwsQHW1uV8u.jpg'\\} & $\\dots$ \\\\\n",
       "\t4 & False &  & $\\dots$ \\\\\n",
       "\t5 & False & \\{'id': 96871, 'name': 'Father of the Bride Collection', 'poster\\_path': '/nts4iOmNnq7GNicycMJ9pSAn204.jpg', 'backdrop\\_path': '/7qwE57OVZmMJChBpLEbJEmzUydk.jpg'\\} & $\\dots$ \\\\\n",
       "\t6 & False &  & $\\dots$ \\\\\n",
       "\t7 & False &  & $\\dots$ \\\\\n",
       "\t8 & False &  & $\\dots$ \\\\\n",
       "\t9 & False &  & $\\dots$ \\\\\n",
       "\t10 & False & \\{'id': 645, 'name': 'James Bond Collection', 'poster\\_path': '/HORpg5CSkmeQlAolx3bKMrKgfi.jpg', 'backdrop\\_path': '/6VcVl48kNKvdXOZfJPdarlUGOsk.jpg'\\} & $\\dots$ \\\\\n",
       "\t11 & False &  & $\\dots$ \\\\\n",
       "\t12 & False &  & $\\dots$ \\\\\n",
       "\t13 & False & \\{'id': 117693, 'name': 'Balto Collection', 'poster\\_path': '/w0ZgH6Lgxt2bQYnf1ss74UvYftm.jpg', 'backdrop\\_path': '/9VM5LiJV0bGb1st1KyHA3cVnO2G.jpg'\\} & $\\dots$ \\\\\n",
       "\t14 & False &  & $\\dots$ \\\\\n",
       "\t15 & False &  & $\\dots$ \\\\\n",
       "\t16 & False &  & $\\dots$ \\\\\n",
       "\t17 & False &  & $\\dots$ \\\\\n",
       "\t18 & False &  & $\\dots$ \\\\\n",
       "\t19 & False & \\{'id': 3167, 'name': 'Ace Ventura Collection', 'poster\\_path': '/qCxH543pScFed1CycwJ1nVgrkOc.jpg', 'backdrop\\_path': '/bswWgdDsLu0fhWMYUzLF8XgiK4h.jpg'\\} & $\\dots$ \\\\\n",
       "\t20 & False &  & $\\dots$ \\\\\n",
       "\t21 & False & \\{'id': 91698, 'name': 'Chili Palmer Collection', 'poster\\_path': '/ae3smJDdWrMJ77tDpYOrpo4frKq.jpg', 'backdrop\\_path': '/uWaANGQeoSs5vSP1CWtlkDrkqei.jpg'\\} & $\\dots$ \\\\\n",
       "\t22 & False &  & $\\dots$ \\\\\n",
       "\t23 & False &  & $\\dots$ \\\\\n",
       "\t24 & False &  & $\\dots$ \\\\\n",
       "\t25 & False &  & $\\dots$ \\\\\n",
       "\t26 & False &  & $\\dots$ \\\\\n",
       "\t27 & False &  & $\\dots$ \\\\\n",
       "\t28 & False &  & $\\dots$ \\\\\n",
       "\t29 & False &  & $\\dots$ \\\\\n",
       "\t30 & False &  & $\\dots$ \\\\\n",
       "\t$\\dots$ & $\\dots$ & $\\dots$ &  \\\\\n",
       "\\end{tabular}\n"
      ],
      "text/plain": [
       "45466×24 DataFrame. Omitted printing of 23 columns\n",
       "│ Row   │ adult  │\n",
       "│       │ \u001b[90mString\u001b[39m │\n",
       "├───────┼────────┤\n",
       "│ 1     │ False  │\n",
       "│ 2     │ False  │\n",
       "│ 3     │ False  │\n",
       "│ 4     │ False  │\n",
       "│ 5     │ False  │\n",
       "│ 6     │ False  │\n",
       "│ 7     │ False  │\n",
       "│ 8     │ False  │\n",
       "│ 9     │ False  │\n",
       "│ 10    │ False  │\n",
       "⋮\n",
       "│ 45456 │ False  │\n",
       "│ 45457 │ False  │\n",
       "│ 45458 │ False  │\n",
       "│ 45459 │ False  │\n",
       "│ 45460 │ False  │\n",
       "│ 45461 │ False  │\n",
       "│ 45462 │ False  │\n",
       "│ 45463 │ False  │\n",
       "│ 45464 │ False  │\n",
       "│ 45465 │ False  │\n",
       "│ 45466 │ False  │"
      ]
     },
     "execution_count": 2,
     "metadata": {},
     "output_type": "execute_result"
    }
   ],
   "source": [
    "data = CSV.read(\"movies_metadata.csv\")"
   ]
  },
  {
   "cell_type": "code",
   "execution_count": 54,
   "metadata": {},
   "outputs": [
    {
     "data": {
      "text/plain": [
       "45466-element Array{Union{Missing, Float64},1}:\n",
       " 7.7\n",
       " 6.9\n",
       " 6.5\n",
       " 6.1\n",
       " 5.7\n",
       " 7.7\n",
       " 6.2\n",
       " 5.4\n",
       " 5.5\n",
       " 6.6\n",
       " 6.5\n",
       " 5.7\n",
       " 7.1\n",
       " ⋮  \n",
       " 4.0\n",
       " 6.0\n",
       " 6.3\n",
       " 7.0\n",
       " 7.0\n",
       " 3.5\n",
       " 5.7\n",
       " 4.0\n",
       " 9.0\n",
       " 3.8\n",
       " 0.0\n",
       " 0.0"
      ]
     },
     "execution_count": 54,
     "metadata": {},
     "output_type": "execute_result"
    }
   ],
   "source": [
    "y = data[:, :vote_average]"
   ]
  },
  {
   "cell_type": "code",
   "execution_count": 4,
   "metadata": {},
   "outputs": [
    {
     "data": {
      "text/plain": [
       "24-element Array{Symbol,1}:\n",
       " :adult                \n",
       " :belongs_to_collection\n",
       " :budget               \n",
       " :genres               \n",
       " :homepage             \n",
       " :id                   \n",
       " :imdb_id              \n",
       " :original_language    \n",
       " :original_title       \n",
       " :overview             \n",
       " :popularity           \n",
       " :poster_path          \n",
       " :production_companies \n",
       " :production_countries \n",
       " :release_date         \n",
       " :revenue              \n",
       " :runtime              \n",
       " :spoken_languages     \n",
       " :status               \n",
       " :tagline              \n",
       " :title                \n",
       " :video                \n",
       " :vote_average         \n",
       " :vote_count           "
      ]
     },
     "execution_count": 4,
     "metadata": {},
     "output_type": "execute_result"
    }
   ],
   "source": [
    "names(data)"
   ]
  },
  {
   "cell_type": "code",
   "execution_count": 5,
   "metadata": {},
   "outputs": [
    {
     "data": {
      "text/plain": [
       "onehot"
      ]
     },
     "execution_count": 5,
     "metadata": {},
     "output_type": "execute_result"
    }
   ],
   "source": [
    "\"Computes a onehot vector for every entry in column given a set of categories cats\"\n",
    "function onehot(column, cats=unique(column))\n",
    "    result = zeros(size(column)[1], size(cats)[1])\n",
    "    new_cats = Dict()\n",
    "    for (n, f) in enumerate(cats)\n",
    "       new_cats[f] = n\n",
    "    end\n",
    "    \n",
    "    for i in 1:size(column)[1]\n",
    "        index = get(new_cats, column[i], 0)\n",
    "        if index != 0\n",
    "            result[i, index] = 1\n",
    "        end\n",
    "    end\n",
    "    result\n",
    "end"
   ]
  },
  {
   "cell_type": "code",
   "execution_count": 6,
   "metadata": {},
   "outputs": [
    {
     "data": {
      "text/plain": [
       "manyhot"
      ]
     },
     "execution_count": 6,
     "metadata": {},
     "output_type": "execute_result"
    }
   ],
   "source": [
    "\"Computes a manyhot vector for every entry in an array of arrays given a set of categories cats\"\n",
    "function manyhot(column)\n",
    "    cats = Set()\n",
    "    for set in column\n",
    "        for item in set\n",
    "            push!(cats, item)\n",
    "        end\n",
    "    end\n",
    "    cats = unique(cats)\n",
    "    \n",
    "    result = zeros(size(column)[1], size(cats)[1])\n",
    "    new_cats = Dict()\n",
    "    for (n, f) in enumerate(cats)\n",
    "       new_cats[f] = n\n",
    "    end\n",
    "    \n",
    "    for i in 1:size(column)[1]\n",
    "        set_of_descriptions = Set(column[i])\n",
    "        for description in set_of_descriptions\n",
    "            index = get(new_cats, description, 0)\n",
    "            if index != 0\n",
    "                result[i, index] = 1\n",
    "            end\n",
    "        end\n",
    "    end\n",
    "    result\n",
    "end"
   ]
  },
  {
   "cell_type": "markdown",
   "metadata": {},
   "source": [
    "### Preprocess genre using many-hot encoding"
   ]
  },
  {
   "cell_type": "code",
   "execution_count": 7,
   "metadata": {},
   "outputs": [
    {
     "data": {
      "text/plain": [
       "preprocess_json (generic function with 1 method)"
      ]
     },
     "execution_count": 7,
     "metadata": {},
     "output_type": "execute_result"
    }
   ],
   "source": [
    "function preprocess_json(d)\n",
    "    if ismissing(d) || d == \"False\"\n",
    "        return Set()\n",
    "    end\n",
    "    x = d\n",
    "    x = replace(x, \"\\\"\" => \"\\'\")\n",
    "    x = replace(x, \"\\\\xa0\" => \" \")\n",
    "    x = replace(x, \"'name'\" => \"\\\"name\\\"\")\n",
    "    x = replace(x, \"'id'\" => \"\\\"id\\\"\")\n",
    "    x = replace(x, \": '\" => \": \\\"\")\n",
    "    x = replace(x, \"'}\" => \"\\\"}\")\n",
    "    x = replace(x, \"',\" => \"\\\",\")\n",
    "    x = replace(x, \"Orlenok\\\"\" => \"Orlenok'\")\n",
    "    x = replace(x, \"'iso_3166_1'\" => \"\\\"iso_3166_1\\\"\")\n",
    "    result = Set{String}()\n",
    "    try\n",
    "        for dic in JSON.parse(x)\n",
    "            push!(result, dic[\"name\"])\n",
    "        end\n",
    "    catch err\n",
    "        println(d)\n",
    "        println(x)\n",
    "        println(\"=============================\")\n",
    "        return Set()\n",
    "    end\n",
    "    return result\n",
    "end"
   ]
  },
  {
   "cell_type": "code",
   "execution_count": 8,
   "metadata": {},
   "outputs": [
    {
     "data": {
      "text/plain": [
       "45466×32 Array{Float64,2}:\n",
       " 1.0  0.0  0.0  0.0  0.0  0.0  0.0  0.0  …  0.0  0.0  0.0  0.0  0.0  0.0  0.0\n",
       " 1.0  0.0  0.0  0.0  0.0  0.0  0.0  1.0     0.0  0.0  0.0  0.0  0.0  0.0  0.0\n",
       " 0.0  0.0  0.0  0.0  0.0  0.0  0.0  0.0     0.0  0.0  1.0  0.0  0.0  0.0  0.0\n",
       " 0.0  0.0  0.0  0.0  0.0  0.0  0.0  0.0     0.0  0.0  1.0  0.0  0.0  0.0  0.0\n",
       " 0.0  0.0  0.0  0.0  0.0  0.0  0.0  0.0     0.0  0.0  0.0  0.0  0.0  0.0  0.0\n",
       " 0.0  0.0  0.0  0.0  0.0  0.0  1.0  0.0  …  0.0  0.0  0.0  0.0  0.0  1.0  0.0\n",
       " 0.0  0.0  0.0  0.0  0.0  0.0  0.0  0.0     0.0  0.0  1.0  0.0  0.0  0.0  0.0\n",
       " 1.0  0.0  0.0  0.0  0.0  0.0  1.0  1.0     0.0  0.0  0.0  0.0  0.0  0.0  0.0\n",
       " 0.0  0.0  0.0  0.0  0.0  0.0  1.0  1.0     0.0  0.0  0.0  0.0  0.0  0.0  0.0\n",
       " 0.0  0.0  0.0  0.0  0.0  0.0  1.0  1.0     0.0  0.0  0.0  0.0  0.0  0.0  0.0\n",
       " 0.0  0.0  0.0  0.0  0.0  0.0  0.0  0.0  …  0.0  0.0  1.0  0.0  0.0  0.0  0.0\n",
       " 0.0  0.0  0.0  0.0  0.0  0.0  0.0  0.0     0.0  0.0  0.0  0.0  0.0  0.0  0.0\n",
       " 1.0  0.0  0.0  0.0  0.0  0.0  0.0  1.0     0.0  0.0  0.0  0.0  0.0  0.0  0.0\n",
       " ⋮                        ⋮              ⋱  ⋮                        ⋮       \n",
       " 0.0  0.0  0.0  0.0  0.0  0.0  0.0  0.0     0.0  0.0  0.0  0.0  0.0  0.0  0.0\n",
       " 0.0  0.0  0.0  0.0  0.0  0.0  0.0  0.0  …  0.0  0.0  0.0  0.0  0.0  0.0  0.0\n",
       " 0.0  0.0  0.0  0.0  0.0  0.0  0.0  0.0     0.0  0.0  0.0  0.0  0.0  0.0  0.0\n",
       " 0.0  0.0  0.0  0.0  0.0  0.0  0.0  0.0     0.0  0.0  0.0  0.0  0.0  0.0  0.0\n",
       " 0.0  0.0  0.0  0.0  0.0  0.0  0.0  0.0     0.0  0.0  0.0  0.0  0.0  0.0  0.0\n",
       " 0.0  0.0  0.0  0.0  0.0  0.0  0.0  0.0     0.0  0.0  0.0  0.0  0.0  0.0  0.0\n",
       " 0.0  0.0  0.0  0.0  0.0  0.0  1.0  0.0  …  0.0  0.0  1.0  0.0  0.0  0.0  0.0\n",
       " 1.0  0.0  0.0  0.0  0.0  0.0  0.0  0.0     0.0  0.0  0.0  0.0  0.0  0.0  0.0\n",
       " 0.0  0.0  0.0  0.0  0.0  0.0  0.0  0.0     0.0  0.0  0.0  0.0  0.0  0.0  0.0\n",
       " 0.0  0.0  0.0  0.0  0.0  0.0  1.0  0.0     0.0  0.0  0.0  0.0  0.0  0.0  0.0\n",
       " 0.0  0.0  0.0  0.0  0.0  0.0  0.0  0.0     0.0  0.0  0.0  0.0  0.0  0.0  0.0\n",
       " 0.0  0.0  0.0  0.0  0.0  0.0  0.0  0.0  …  0.0  0.0  0.0  0.0  0.0  0.0  0.0"
      ]
     },
     "execution_count": 8,
     "metadata": {},
     "output_type": "execute_result"
    }
   ],
   "source": [
    "genres = manyhot(map(preprocess_json,data[:,:genres]))"
   ]
  },
  {
   "cell_type": "markdown",
   "metadata": {},
   "source": [
    "### Preprocess production company using many-hot encoding"
   ]
  },
  {
   "cell_type": "code",
   "execution_count": 9,
   "metadata": {},
   "outputs": [
    {
     "data": {
      "text/plain": [
       "45466×23537 Array{Float64,2}:\n",
       " 0.0  0.0  0.0  0.0  0.0  0.0  0.0  0.0  …  0.0  0.0  0.0  0.0  0.0  0.0  0.0\n",
       " 0.0  0.0  0.0  0.0  0.0  0.0  0.0  0.0     0.0  0.0  0.0  0.0  0.0  0.0  0.0\n",
       " 0.0  0.0  0.0  0.0  0.0  0.0  0.0  0.0     0.0  0.0  0.0  0.0  0.0  0.0  0.0\n",
       " 0.0  0.0  0.0  0.0  0.0  0.0  0.0  0.0     0.0  0.0  0.0  0.0  0.0  0.0  0.0\n",
       " 0.0  0.0  0.0  0.0  0.0  0.0  0.0  0.0     0.0  0.0  0.0  0.0  0.0  0.0  0.0\n",
       " 0.0  0.0  0.0  0.0  0.0  0.0  0.0  0.0  …  0.0  0.0  0.0  0.0  0.0  0.0  0.0\n",
       " 0.0  0.0  0.0  0.0  0.0  0.0  0.0  0.0     0.0  0.0  0.0  0.0  0.0  0.0  0.0\n",
       " 0.0  0.0  0.0  0.0  0.0  0.0  0.0  0.0     0.0  0.0  0.0  0.0  0.0  0.0  0.0\n",
       " 0.0  0.0  0.0  0.0  0.0  0.0  0.0  0.0     0.0  0.0  0.0  0.0  0.0  0.0  0.0\n",
       " 0.0  0.0  0.0  0.0  0.0  0.0  0.0  0.0     0.0  0.0  0.0  0.0  0.0  0.0  0.0\n",
       " 0.0  0.0  0.0  0.0  0.0  0.0  0.0  0.0  …  0.0  0.0  0.0  0.0  0.0  0.0  0.0\n",
       " 0.0  0.0  0.0  0.0  0.0  0.0  0.0  0.0     0.0  0.0  0.0  0.0  0.0  0.0  0.0\n",
       " 0.0  0.0  0.0  0.0  0.0  0.0  0.0  0.0     0.0  0.0  0.0  0.0  0.0  0.0  0.0\n",
       " ⋮                        ⋮              ⋱  ⋮                        ⋮       \n",
       " 0.0  0.0  0.0  0.0  0.0  0.0  0.0  0.0     0.0  0.0  0.0  0.0  0.0  0.0  0.0\n",
       " 0.0  0.0  0.0  0.0  0.0  0.0  0.0  0.0  …  0.0  0.0  0.0  0.0  0.0  0.0  0.0\n",
       " 0.0  0.0  0.0  0.0  0.0  0.0  0.0  0.0     0.0  0.0  0.0  0.0  0.0  0.0  0.0\n",
       " 0.0  0.0  0.0  0.0  0.0  0.0  0.0  0.0     0.0  0.0  0.0  0.0  0.0  0.0  0.0\n",
       " 0.0  0.0  0.0  0.0  0.0  0.0  0.0  0.0     0.0  0.0  0.0  0.0  0.0  0.0  0.0\n",
       " 0.0  0.0  0.0  0.0  0.0  0.0  0.0  0.0     0.0  0.0  0.0  0.0  0.0  0.0  0.0\n",
       " 0.0  0.0  0.0  0.0  0.0  0.0  0.0  0.0  …  0.0  0.0  0.0  0.0  0.0  0.0  0.0\n",
       " 0.0  0.0  0.0  0.0  0.0  0.0  0.0  0.0     0.0  0.0  0.0  0.0  0.0  0.0  0.0\n",
       " 0.0  0.0  0.0  0.0  0.0  0.0  0.0  0.0     0.0  0.0  0.0  0.0  0.0  0.0  0.0\n",
       " 0.0  0.0  0.0  0.0  0.0  0.0  0.0  0.0     0.0  0.0  0.0  0.0  0.0  0.0  0.0\n",
       " 0.0  0.0  0.0  0.0  0.0  0.0  0.0  0.0     0.0  0.0  0.0  0.0  0.0  0.0  0.0\n",
       " 0.0  0.0  0.0  0.0  0.0  0.0  0.0  0.0  …  0.0  0.0  0.0  0.0  0.0  0.0  0.0"
      ]
     },
     "execution_count": 9,
     "metadata": {},
     "output_type": "execute_result"
    }
   ],
   "source": [
    "production_companies = manyhot(map(preprocess_json,data[:,:production_companies]))"
   ]
  },
  {
   "cell_type": "markdown",
   "metadata": {},
   "source": [
    "There are so many production companies and we don't want to overfit our data, so we exclude it for now."
   ]
  },
  {
   "cell_type": "markdown",
   "metadata": {},
   "source": [
    "### Production countries using many-hot encoding"
   ]
  },
  {
   "cell_type": "code",
   "execution_count": 10,
   "metadata": {},
   "outputs": [
    {
     "name": "stdout",
     "output_type": "stream",
     "text": [
      "4.3\n",
      "4.3\n",
      "=============================\n",
      "6.0\n",
      "6.0\n",
      "=============================\n",
      "7.0\n",
      "7.0\n",
      "=============================\n"
     ]
    },
    {
     "data": {
      "text/plain": [
       "45466×160 Array{Float64,2}:\n",
       " 1.0  0.0  0.0  0.0  0.0  0.0  0.0  0.0  …  0.0  0.0  0.0  0.0  0.0  0.0  0.0\n",
       " 1.0  0.0  0.0  0.0  0.0  0.0  0.0  0.0     0.0  0.0  0.0  0.0  0.0  0.0  0.0\n",
       " 1.0  0.0  0.0  0.0  0.0  0.0  0.0  0.0     0.0  0.0  0.0  0.0  0.0  0.0  0.0\n",
       " 1.0  0.0  0.0  0.0  0.0  0.0  0.0  0.0     0.0  0.0  0.0  0.0  0.0  0.0  0.0\n",
       " 1.0  0.0  0.0  0.0  0.0  0.0  0.0  0.0     0.0  0.0  0.0  0.0  0.0  0.0  0.0\n",
       " 1.0  0.0  0.0  0.0  0.0  0.0  0.0  0.0  …  0.0  0.0  0.0  0.0  0.0  0.0  0.0\n",
       " 1.0  0.0  0.0  0.0  0.0  0.0  0.0  0.0     0.0  0.0  0.0  0.0  0.0  0.0  0.0\n",
       " 1.0  0.0  0.0  0.0  0.0  0.0  0.0  0.0     0.0  0.0  0.0  0.0  0.0  0.0  0.0\n",
       " 1.0  0.0  0.0  0.0  0.0  0.0  0.0  0.0     0.0  0.0  0.0  0.0  0.0  0.0  0.0\n",
       " 1.0  0.0  0.0  0.0  0.0  0.0  0.0  0.0     0.0  0.0  0.0  0.0  0.0  0.0  0.0\n",
       " 1.0  0.0  0.0  0.0  0.0  0.0  0.0  0.0  …  0.0  0.0  0.0  0.0  0.0  0.0  0.0\n",
       " 1.0  0.0  0.0  0.0  0.0  0.0  0.0  0.0     0.0  0.0  0.0  0.0  0.0  0.0  0.0\n",
       " 1.0  0.0  0.0  0.0  0.0  0.0  0.0  0.0     0.0  0.0  0.0  0.0  0.0  0.0  0.0\n",
       " ⋮                        ⋮              ⋱            ⋮                      \n",
       " 1.0  0.0  0.0  0.0  0.0  0.0  0.0  0.0     0.0  0.0  0.0  0.0  0.0  0.0  0.0\n",
       " 0.0  0.0  0.0  0.0  0.0  0.0  0.0  0.0  …  0.0  0.0  0.0  0.0  0.0  0.0  0.0\n",
       " 1.0  0.0  0.0  0.0  0.0  0.0  0.0  0.0     0.0  0.0  0.0  0.0  0.0  0.0  0.0\n",
       " 0.0  0.0  0.0  0.0  0.0  0.0  0.0  0.0     0.0  0.0  0.0  0.0  0.0  0.0  0.0\n",
       " 1.0  0.0  0.0  0.0  0.0  0.0  0.0  0.0     0.0  0.0  0.0  0.0  0.0  0.0  0.0\n",
       " 1.0  0.0  0.0  0.0  0.0  0.0  0.0  0.0     0.0  0.0  0.0  0.0  0.0  0.0  0.0\n",
       " 1.0  0.0  0.0  0.0  0.0  0.0  0.0  0.0  …  0.0  0.0  0.0  0.0  0.0  0.0  0.0\n",
       " 0.0  0.0  0.0  0.0  0.0  0.0  0.0  0.0     0.0  0.0  0.0  0.0  0.0  0.0  0.0\n",
       " 0.0  0.0  0.0  0.0  0.0  0.0  0.0  0.0     0.0  0.0  0.0  0.0  0.0  0.0  0.0\n",
       " 1.0  0.0  0.0  0.0  0.0  0.0  0.0  0.0     0.0  0.0  0.0  0.0  0.0  0.0  0.0\n",
       " 0.0  0.0  0.0  0.0  0.0  0.0  0.0  0.0     0.0  0.0  0.0  0.0  0.0  0.0  0.0\n",
       " 0.0  0.0  0.0  0.0  0.0  0.0  0.0  0.0  …  0.0  0.0  0.0  0.0  0.0  0.0  0.0"
      ]
     },
     "execution_count": 10,
     "metadata": {},
     "output_type": "execute_result"
    }
   ],
   "source": [
    "production_countries = manyhot(map(preprocess_json,data[:,:production_countries]))"
   ]
  },
  {
   "cell_type": "markdown",
   "metadata": {},
   "source": [
    "### Preprocess popularity to float type"
   ]
  },
  {
   "cell_type": "code",
   "execution_count": 14,
   "metadata": {},
   "outputs": [
    {
     "data": {
      "text/plain": [
       "parse_string_to_float (generic function with 1 method)"
      ]
     },
     "execution_count": 14,
     "metadata": {},
     "output_type": "execute_result"
    }
   ],
   "source": [
    "function parse_string_to_float(x)\n",
    "    if ismissing(x)\n",
    "        return 0\n",
    "    end\n",
    "    result = 0\n",
    "    try\n",
    "        result = parse(Float64, x)\n",
    "    catch\n",
    "        println(x)\n",
    "        println(\"=========\")\n",
    "    end\n",
    "    return result\n",
    "end"
   ]
  },
  {
   "cell_type": "code",
   "execution_count": 17,
   "metadata": {},
   "outputs": [
    {
     "name": "stdout",
     "output_type": "stream",
     "text": [
      "Beware Of Frost Bites\n",
      "=========\n"
     ]
    },
    {
     "data": {
      "text/plain": [
       "45466-element Array{Real,1}:\n",
       " 21.946943\n",
       " 17.015539\n",
       " 11.7129  \n",
       "  3.859495\n",
       "  8.387519\n",
       " 17.924927\n",
       "  6.677277\n",
       "  2.561161\n",
       "  5.23158 \n",
       " 14.686036\n",
       "  6.318445\n",
       "  5.430331\n",
       " 12.140733\n",
       "  ⋮       \n",
       "  0.139936\n",
       "  0.225051\n",
       "  0.222814\n",
       "  0.076061\n",
       "  0.38645 \n",
       "  0.661558\n",
       "  5.683753\n",
       "  0.072051\n",
       "  0.178241\n",
       "  0.903007\n",
       "  0.003503\n",
       "  0.163015"
      ]
     },
     "execution_count": 17,
     "metadata": {},
     "output_type": "execute_result"
    }
   ],
   "source": [
    "popularity = map(parse_string_to_float,data[:,:popularity])"
   ]
  },
  {
   "cell_type": "markdown",
   "metadata": {},
   "source": [
    "### Preprocess budget with boolean encoding"
   ]
  },
  {
   "cell_type": "code",
   "execution_count": 20,
   "metadata": {},
   "outputs": [],
   "source": [
    "budget = data[:,:budget]\n",
    "Random.seed!(3)\n",
    "randlist = filter(x -> x != \"0\", data[:,:budget])\n",
    "rand_num = length(randlist)\n",
    "budget_rep = replace(budget, \"/ff9qCepilowshEtG2GYWwzt2bs4.jpg\"=>\"0\")\n",
    "budget_rep = replace(budget_rep, \"/zV8bHuSL6WXoD6FWogP9j4x80bL.jpg\"=>\"0\")\n",
    "budget_rep = replace(budget_rep, \"/zaSf5OG7V8X8gqFvly88zDdRm46.jpg\"=>\"0\")\n",
    "budget_rep = replace(budget_rep, \"0\"=>randlist[rand(1:rand_num)], NaN=>randlist[rand(1:rand_num)])\n",
    "budget_repint = parse.(Float64, string.(budget_rep)) / 10^6\n",
    "n = length(budget_repint)\n",
    "budget_feature = zeros(n, 2)\n",
    "for r in 1:n\n",
    "    if budget_repint[r] > 20\n",
    "        budget_feature[r,:] = [1,1]\n",
    "    elseif budget_repint[r] > 1\n",
    "        budget_feature[r,:] = [1,0]\n",
    "    else\n",
    "        budget_feature[r,:] = [0,0]\n",
    "    end\n",
    "end"
   ]
  },
  {
   "cell_type": "code",
   "execution_count": 23,
   "metadata": {},
   "outputs": [
    {
     "data": {
      "text/plain": [
       "1.8248141468349977"
      ]
     },
     "execution_count": 23,
     "metadata": {},
     "output_type": "execute_result"
    }
   ],
   "source": [
    "sum(budget_feature)/45466"
   ]
  },
  {
   "cell_type": "markdown",
   "metadata": {},
   "source": [
    "### Preprocess runtime using boolean encoding, change missing to mean value"
   ]
  },
  {
   "cell_type": "code",
   "execution_count": 31,
   "metadata": {},
   "outputs": [
    {
     "data": {
      "text/plain": [
       "45466×3 Array{Float64,2}:\n",
       " 0.0  0.0  0.0\n",
       " 1.0  1.0  0.0\n",
       " 1.0  1.0  0.0\n",
       " 1.0  1.0  1.0\n",
       " 1.0  1.0  0.0\n",
       " 1.0  1.0  1.0\n",
       " 1.0  1.0  1.0\n",
       " 1.0  1.0  0.0\n",
       " 1.0  1.0  0.0\n",
       " 1.0  1.0  1.0\n",
       " 1.0  1.0  0.0\n",
       " 1.0  0.0  0.0\n",
       " 0.0  0.0  0.0\n",
       " ⋮            \n",
       " 0.0  0.0  0.0\n",
       " 1.0  0.0  0.0\n",
       " 0.0  0.0  0.0\n",
       " 0.0  0.0  0.0\n",
       " 0.0  0.0  0.0\n",
       " 0.0  0.0  0.0\n",
       " 1.0  1.0  0.0\n",
       " 1.0  0.0  0.0\n",
       " 1.0  1.0  1.0\n",
       " 1.0  0.0  0.0\n",
       " 1.0  0.0  0.0\n",
       " 0.0  0.0  0.0"
      ]
     },
     "execution_count": 31,
     "metadata": {},
     "output_type": "execute_result"
    }
   ],
   "source": [
    "time = data[:, :runtime]\n",
    "valid = filter(x -> ! ismissing(x), time)\n",
    "mean_val = mean(valid)\n",
    "for i in 1:size(time, 1)\n",
    "    if ismissing(time[i]) || time[i] == 0\n",
    "        time[i] = mean_val\n",
    "    end\n",
    "end\n",
    "\n",
    "min_val = minimum(time)\n",
    "max_val = maximum(time)\n",
    "q_val = quantile(time, [0.25, 0.5, 0.75])\n",
    "\n",
    "runtime = zeros(size(time, 1), 3) # the new matrix with many code\n",
    "for i in 1:size(time, 1)\n",
    "    t = time[i]\n",
    "    runtime[i, :] = Int.([t>=q_val[1], t>=q_val[2], t>=q_val[3]])\n",
    "end\n",
    "runtime"
   ]
  },
  {
   "cell_type": "markdown",
   "metadata": {},
   "source": [
    "### Preprocess runtime using one-hot encoding on month/quarter"
   ]
  },
  {
   "cell_type": "code",
   "execution_count": 34,
   "metadata": {},
   "outputs": [
    {
     "data": {
      "text/plain": [
       "45466×4 Array{Float64,2}:\n",
       " 0.0  0.0  0.0  1.0\n",
       " 0.0  0.0  0.0  1.0\n",
       " 0.0  0.0  0.0  1.0\n",
       " 0.0  0.0  0.0  1.0\n",
       " 1.0  0.0  0.0  0.0\n",
       " 0.0  0.0  0.0  1.0\n",
       " 0.0  0.0  0.0  1.0\n",
       " 0.0  0.0  0.0  1.0\n",
       " 0.0  0.0  0.0  1.0\n",
       " 0.0  0.0  0.0  1.0\n",
       " 0.0  0.0  0.0  1.0\n",
       " 0.0  0.0  0.0  1.0\n",
       " 0.0  0.0  0.0  1.0\n",
       " ⋮                 \n",
       " 1.0  0.0  0.0  0.0\n",
       " 1.0  0.0  0.0  0.0\n",
       " 1.0  0.0  0.0  0.0\n",
       " 0.0  0.0  0.0  1.0\n",
       " 0.0  0.0  0.0  1.0\n",
       " 1.0  0.0  0.0  0.0\n",
       " 0.0  1.0  0.0  0.0\n",
       " 0.0  0.0  0.0  1.0\n",
       " 0.0  0.0  0.0  1.0\n",
       " 0.0  0.0  1.0  0.0\n",
       " 0.0  0.0  0.0  1.0\n",
       " 0.0  1.0  0.0  0.0"
      ]
     },
     "execution_count": 34,
     "metadata": {},
     "output_type": "execute_result"
    }
   ],
   "source": [
    "date = data[:, :release_date]\n",
    "months = Int.(zeros(size(date, 1)))\n",
    "for i in 1:size(date, 1)\n",
    "    x = date[i]\n",
    "    if ismissing(x)\n",
    "        months[i] = rand(1:12,1)[1]\n",
    "    else\n",
    "        months[i] = Dates.month(x)\n",
    "    end\n",
    "end\n",
    "\n",
    "release_date = zeros(size(months, 1), 4)\n",
    "for i in 1:length(months)\n",
    "    d = months[i]\n",
    "    release_date[i, :] = Int.([d in 1:3, d in 4:6, d in 7:9, d in 10:12])\n",
    "end\n",
    "release_date"
   ]
  },
  {
   "cell_type": "markdown",
   "metadata": {},
   "source": [
    "# Experiment"
   ]
  },
  {
   "cell_type": "markdown",
   "metadata": {},
   "source": [
    "### Generate total dataset"
   ]
  },
  {
   "cell_type": "code",
   "execution_count": 39,
   "metadata": {},
   "outputs": [
    {
     "data": {
      "text/plain": [
       "45466×203 Array{Real,2}:\n",
       " 1.0  1.0  1.0  21.9469    0.0  0.0  …  0.0  0.0  0.0  0.0  0.0  0.0  0.0\n",
       " 1.0  1.0  1.0  17.0155    0.0  0.0     0.0  0.0  0.0  0.0  0.0  0.0  0.0\n",
       " 1.0  1.0  1.0  11.7129    0.0  0.0     0.0  0.0  0.0  0.0  0.0  0.0  0.0\n",
       " 1.0  1.0  0.0   3.85949   0.0  0.0     0.0  0.0  0.0  0.0  0.0  0.0  0.0\n",
       " 1.0  1.0  1.0   8.38752   1.0  0.0     0.0  0.0  0.0  0.0  0.0  0.0  0.0\n",
       " 1.0  1.0  1.0  17.9249    0.0  0.0  …  0.0  0.0  0.0  0.0  0.0  0.0  0.0\n",
       " 1.0  1.0  1.0   6.67728   0.0  0.0     0.0  0.0  0.0  0.0  0.0  0.0  0.0\n",
       " 1.0  1.0  1.0   2.56116   0.0  0.0     0.0  0.0  0.0  0.0  0.0  0.0  0.0\n",
       " 1.0  1.0  1.0   5.23158   0.0  0.0     0.0  0.0  0.0  0.0  0.0  0.0  0.0\n",
       " 1.0  1.0  1.0  14.686     0.0  0.0     0.0  0.0  0.0  0.0  0.0  0.0  0.0\n",
       " 1.0  1.0  1.0   6.31844   0.0  0.0  …  0.0  0.0  0.0  0.0  0.0  0.0  0.0\n",
       " 1.0  1.0  1.0   5.43033   0.0  0.0     0.0  0.0  0.0  0.0  0.0  0.0  0.0\n",
       " 1.0  1.0  1.0  12.1407    0.0  0.0     0.0  0.0  0.0  0.0  0.0  0.0  0.0\n",
       " ⋮                              ⋮    ⋱                      ⋮            \n",
       " 1.0  1.0  1.0   0.139936  1.0  0.0     0.0  0.0  0.0  0.0  0.0  0.0  0.0\n",
       " 1.0  1.0  1.0   0.225051  1.0  0.0  …  0.0  0.0  0.0  0.0  0.0  0.0  0.0\n",
       " 1.0  1.0  1.0   0.222814  1.0  0.0     0.0  0.0  0.0  0.0  0.0  0.0  0.0\n",
       " 1.0  1.0  1.0   0.076061  0.0  0.0     0.0  0.0  0.0  0.0  0.0  0.0  0.0\n",
       " 1.0  1.0  1.0   0.38645   0.0  0.0     0.0  0.0  0.0  0.0  0.0  0.0  0.0\n",
       " 1.0  1.0  1.0   0.661558  1.0  0.0     0.0  0.0  0.0  0.0  0.0  0.0  0.0\n",
       " 1.0  1.0  1.0   5.68375   0.0  1.0  …  0.0  0.0  0.0  0.0  0.0  0.0  0.0\n",
       " 1.0  1.0  1.0   0.072051  0.0  0.0     0.0  0.0  0.0  0.0  0.0  0.0  0.0\n",
       " 1.0  1.0  1.0   0.178241  0.0  0.0     0.0  0.0  0.0  0.0  0.0  0.0  0.0\n",
       " 1.0  1.0  1.0   0.903007  0.0  0.0     0.0  0.0  0.0  0.0  0.0  0.0  0.0\n",
       " 1.0  1.0  1.0   0.003503  0.0  0.0     0.0  0.0  0.0  0.0  0.0  0.0  0.0\n",
       " 1.0  1.0  1.0   0.163015  0.0  1.0  …  0.0  0.0  0.0  0.0  0.0  0.0  0.0"
      ]
     },
     "execution_count": 39,
     "metadata": {},
     "output_type": "execute_result"
    }
   ],
   "source": [
    "X = hcat(ones(size(data,1)), budget_feature, popularity, release_date, runtime, genres, production_countries)"
   ]
  },
  {
   "cell_type": "code",
   "execution_count": 40,
   "metadata": {},
   "outputs": [
    {
     "data": {
      "text/plain": [
       "45466×43 Array{Real,2}:\n",
       " 1.0  1.0  1.0  21.9469    0.0  0.0  …  0.0  0.0  0.0  0.0  0.0  0.0  0.0\n",
       " 1.0  1.0  1.0  17.0155    0.0  0.0     0.0  0.0  0.0  0.0  0.0  0.0  0.0\n",
       " 1.0  1.0  1.0  11.7129    0.0  0.0     0.0  0.0  1.0  0.0  0.0  0.0  0.0\n",
       " 1.0  1.0  0.0   3.85949   0.0  0.0     0.0  0.0  1.0  0.0  0.0  0.0  0.0\n",
       " 1.0  1.0  1.0   8.38752   1.0  0.0     0.0  0.0  0.0  0.0  0.0  0.0  0.0\n",
       " 1.0  1.0  1.0  17.9249    0.0  0.0  …  0.0  0.0  0.0  0.0  0.0  1.0  0.0\n",
       " 1.0  1.0  1.0   6.67728   0.0  0.0     0.0  0.0  1.0  0.0  0.0  0.0  0.0\n",
       " 1.0  1.0  1.0   2.56116   0.0  0.0     0.0  0.0  0.0  0.0  0.0  0.0  0.0\n",
       " 1.0  1.0  1.0   5.23158   0.0  0.0     0.0  0.0  0.0  0.0  0.0  0.0  0.0\n",
       " 1.0  1.0  1.0  14.686     0.0  0.0     0.0  0.0  0.0  0.0  0.0  0.0  0.0\n",
       " 1.0  1.0  1.0   6.31844   0.0  0.0  …  0.0  0.0  1.0  0.0  0.0  0.0  0.0\n",
       " 1.0  1.0  1.0   5.43033   0.0  0.0     0.0  0.0  0.0  0.0  0.0  0.0  0.0\n",
       " 1.0  1.0  1.0  12.1407    0.0  0.0     0.0  0.0  0.0  0.0  0.0  0.0  0.0\n",
       " ⋮                              ⋮    ⋱                      ⋮            \n",
       " 1.0  1.0  1.0   0.139936  1.0  0.0     0.0  0.0  0.0  0.0  0.0  0.0  0.0\n",
       " 1.0  1.0  1.0   0.225051  1.0  0.0  …  0.0  0.0  0.0  0.0  0.0  0.0  0.0\n",
       " 1.0  1.0  1.0   0.222814  1.0  0.0     0.0  0.0  0.0  0.0  0.0  0.0  0.0\n",
       " 1.0  1.0  1.0   0.076061  0.0  0.0     0.0  0.0  0.0  0.0  0.0  0.0  0.0\n",
       " 1.0  1.0  1.0   0.38645   0.0  0.0     0.0  0.0  0.0  0.0  0.0  0.0  0.0\n",
       " 1.0  1.0  1.0   0.661558  1.0  0.0     0.0  0.0  0.0  0.0  0.0  0.0  0.0\n",
       " 1.0  1.0  1.0   5.68375   0.0  1.0  …  0.0  0.0  1.0  0.0  0.0  0.0  0.0\n",
       " 1.0  1.0  1.0   0.072051  0.0  0.0     0.0  0.0  0.0  0.0  0.0  0.0  0.0\n",
       " 1.0  1.0  1.0   0.178241  0.0  0.0     0.0  0.0  0.0  0.0  0.0  0.0  0.0\n",
       " 1.0  1.0  1.0   0.903007  0.0  0.0     0.0  0.0  0.0  0.0  0.0  0.0  0.0\n",
       " 1.0  1.0  1.0   0.003503  0.0  0.0     0.0  0.0  0.0  0.0  0.0  0.0  0.0\n",
       " 1.0  1.0  1.0   0.163015  0.0  1.0  …  0.0  0.0  0.0  0.0  0.0  0.0  0.0"
      ]
     },
     "execution_count": 40,
     "metadata": {},
     "output_type": "execute_result"
    }
   ],
   "source": [
    "X_without_country = hcat(ones(size(data,1)), budget_feature, popularity, release_date, runtime, genres)"
   ]
  },
  {
   "cell_type": "code",
   "execution_count": 55,
   "metadata": {},
   "outputs": [
    {
     "data": {
      "text/plain": [
       "45466-element Array{Real,1}:\n",
       " 7.7\n",
       " 6.9\n",
       " 6.5\n",
       " 6.1\n",
       " 5.7\n",
       " 7.7\n",
       " 6.2\n",
       " 5.4\n",
       " 5.5\n",
       " 6.6\n",
       " 6.5\n",
       " 5.7\n",
       " 7.1\n",
       " ⋮  \n",
       " 4.0\n",
       " 6.0\n",
       " 6.3\n",
       " 7.0\n",
       " 7.0\n",
       " 3.5\n",
       " 5.7\n",
       " 4.0\n",
       " 9.0\n",
       " 3.8\n",
       " 0.0\n",
       " 0.0"
      ]
     },
     "execution_count": 55,
     "metadata": {},
     "output_type": "execute_result"
    }
   ],
   "source": [
    "y = map(z -> ismissing(z) ? 0 : z, y)"
   ]
  },
  {
   "cell_type": "markdown",
   "metadata": {},
   "source": [
    "### Separate data into training and test dataset"
   ]
  },
  {
   "cell_type": "code",
   "execution_count": 48,
   "metadata": {},
   "outputs": [
    {
     "name": "stdout",
     "output_type": "stream",
     "text": [
      "Size of dataset: 45466\n"
     ]
    },
    {
     "data": {
      "text/plain": [
       "36373×204 Array{Real,2}:\n",
       " 6.4  1.0  1.0  1.0  13.829     0.0  …  0.0  0.0  0.0  0.0  0.0  0.0  0.0\n",
       " 8.0  1.0  1.0  1.0   0.10064   0.0     0.0  0.0  0.0  0.0  0.0  0.0  0.0\n",
       " 7.2  1.0  1.0  1.0   4.99513   0.0     0.0  0.0  0.0  0.0  0.0  0.0  0.0\n",
       " 4.8  1.0  1.0  1.0   2.4676    0.0     0.0  0.0  0.0  0.0  0.0  0.0  0.0\n",
       " 4.8  1.0  1.0  0.0   1.39659   0.0     0.0  0.0  0.0  0.0  0.0  0.0  0.0\n",
       " 7.3  1.0  1.0  1.0  29.3618    0.0  …  0.0  0.0  0.0  0.0  0.0  0.0  0.0\n",
       " 7.7  1.0  1.0  1.0   1.17024   1.0     0.0  0.0  0.0  0.0  0.0  0.0  0.0\n",
       " 5.0  1.0  1.0  1.0   0.968275  1.0     0.0  0.0  0.0  0.0  0.0  0.0  1.0\n",
       " 4.6  1.0  1.0  0.0   1.71913   0.0     0.0  0.0  0.0  0.0  0.0  0.0  0.0\n",
       " 2.7  1.0  1.0  1.0   0.781819  1.0     0.0  0.0  0.0  0.0  0.0  0.0  0.0\n",
       " 6.1  1.0  1.0  1.0   2.98767   0.0  …  0.0  0.0  0.0  0.0  0.0  0.0  0.0\n",
       " 6.5  1.0  1.0  1.0   4.99356   0.0     1.0  0.0  0.0  0.0  0.0  0.0  0.0\n",
       " 6.9  1.0  1.0  1.0   1.98961   1.0     0.0  0.0  0.0  0.0  0.0  0.0  0.0\n",
       " ⋮                              ⋮    ⋱                 ⋮                 \n",
       " 4.6  1.0  1.0  1.0   1.1626    0.0     0.0  0.0  0.0  0.0  0.0  0.0  0.0\n",
       " 7.0  1.0  1.0  1.0   0.173326  0.0     0.0  0.0  0.0  0.0  0.0  0.0  0.0\n",
       " 3.8  1.0  0.0  0.0   0.737628  0.0     0.0  0.0  0.0  0.0  0.0  0.0  0.0\n",
       " 6.0  1.0  1.0  1.0   0.168862  0.0     0.0  0.0  0.0  0.0  0.0  0.0  0.0\n",
       " 6.6  1.0  1.0  1.0   5.68241   0.0  …  0.0  0.0  0.0  0.0  0.0  0.0  0.0\n",
       " 5.7  1.0  1.0  1.0   0.221421  1.0     0.0  0.0  0.0  0.0  0.0  0.0  0.0\n",
       " 6.0  1.0  1.0  1.0   0.100626  1.0     0.0  0.0  0.0  0.0  0.0  0.0  0.0\n",
       " 4.8  1.0  1.0  1.0   0.949628  0.0     0.0  0.0  0.0  0.0  0.0  0.0  0.0\n",
       " 5.0  1.0  1.0  1.0   0.039117  1.0     0.0  0.0  0.0  0.0  0.0  0.0  0.0\n",
       " 7.5  1.0  1.0  1.0   0.736452  0.0  …  0.0  0.0  0.0  0.0  0.0  0.0  0.0\n",
       " 6.8  1.0  1.0  1.0   4.88296   0.0     0.0  0.0  0.0  0.0  0.0  0.0  0.0\n",
       " 5.2  1.0  1.0  0.0   1.59606   1.0     0.0  0.0  0.0  0.0  0.0  0.0  0.0"
      ]
     },
     "execution_count": 48,
     "metadata": {},
     "output_type": "execute_result"
    }
   ],
   "source": [
    "dataset = hcat(y, X)\n",
    "dataset_without_country = hcat(y, X_without_country)\n",
    "dataset = dataset[shuffle(1:end), :]\n",
    "dataset_without_country = dataset_without_country[shuffle(1:end), :]\n",
    "\n",
    "train_proportion = 0.8\n",
    "n = size(dataset, 1)\n",
    "println(\"Size of dataset: \", string(n))\n",
    "\n",
    "# Put the first ntrain observations in the DataFrame df into the training set, and the rest into the test set\n",
    "ntrain = convert(Int, round(train_proportion*n))\n",
    "\n",
    "y = dataset[:, 1]\n",
    "y_without_country = dataset_without_country[:, 1]\n",
    "\n",
    "train_x = dataset[1:ntrain, :]\n",
    "test_x = dataset[ntrain+1:n, :]\n",
    "train_y = y[1:ntrain, :]\n",
    "test_y = y[ntrain+1:n, :]\n",
    "\n",
    "train_x_without_country = dataset_without_country[1:ntrain, :]\n",
    "test_x_without_country = dataset_without_country[ntrain+1:n, :]\n",
    "train_y_without_country = y_without_country[1:ntrain, :]\n",
    "test_y_without_country = y_without_country[ntrain+1:n, :]\n",
    "\n",
    "# let's take a look\n",
    "train_x"
   ]
  },
  {
   "cell_type": "markdown",
   "metadata": {},
   "source": [
    "### Calculate least square"
   ]
  },
  {
   "cell_type": "code",
   "execution_count": 49,
   "metadata": {},
   "outputs": [
    {
     "data": {
      "text/plain": [
       "plot_pred_true"
      ]
     },
     "execution_count": 49,
     "metadata": {},
     "output_type": "execute_result"
    }
   ],
   "source": [
    "\"\"\"This function just computes the mean squared error.\"\"\"\n",
    "function MSE(y, pred)\n",
    "    n = size(y)[1]\n",
    "    err = 0\n",
    "    for i in 1:n\n",
    "        err += (y[i] - pred[i])^2\n",
    "    end\n",
    "    return err/n\n",
    "end\n",
    "\n",
    "\"\"\"This function plots the main diagonal; \n",
    "for a \"predicted vs true\" plot with perfect predictions,\n",
    "all data lies on this line\"\"\"\n",
    "function plotDiagonal(xmin, xmax)\n",
    "    xsamples = [xmin, xmax]\n",
    "    plot!(xsamples, xsamples, color=:black)\n",
    "end\n",
    "\n",
    "\"\"\"This helper funciton plots x vs, y and labels the axes.\"\"\"\n",
    "function plotdata(x,y,xname, yname; margin=.05, plotDiag=true, zeromin=false)\n",
    "    scatter(x,y, label=\"data\")\n",
    "    xlabel!(xname)\n",
    "    ylabel!(yname)\n",
    "    range_y = maximum(y) - minimum(y)\n",
    "    range_x = maximum(x) - minimum(x)\n",
    "    if plotDiag\n",
    "        plotDiagonal(minimum(x)-margin*range_x, maximum(x)+margin*range_x)\n",
    "    end\n",
    "    if zeromin\n",
    "        ylims!((0.0,maximum(y)+margin*range_y))\n",
    "        xlims!((0.0,maximum(x)+margin*range_x))\n",
    "    else\n",
    "        ylims!((minimum(y)-margin*range_y,maximum(y)+margin*range_y))\n",
    "        xlims!((minimum(x)-margin*range_x,maximum(x)+margin*range_x))\n",
    "    end\n",
    "end\n",
    "\n",
    "\"\"\"This function plots the predicted labels vs the actual labels\n",
    "(We only plots the first 1000 points to avoid slow plots.)\"\"\"\n",
    "function plot_pred_true(test_pred, test_y, max_points = 1000)\n",
    "    plotdata(test_pred[1:max_points], test_y[1:max_points], \"Predicted (\\$)\", \"True (\\$)\", zeromin=true)\n",
    "end"
   ]
  },
  {
   "cell_type": "code",
   "execution_count": 50,
   "metadata": {},
   "outputs": [
    {
     "ename": "SingularException",
     "evalue": "SingularException(204)",
     "output_type": "error",
     "traceback": [
      "SingularException(204)",
      "",
      "Stacktrace:",
      " [1] naivesub!(::UpperTriangular{Real,SubArray{Real,2,Array{Real,2},Tuple{Base.Slice{Base.OneTo{Int64}},UnitRange{Int64}},true}}, ::Array{Real,1}, ::Array{Real,1}) at /Users/sabae/buildbot/worker/package_macos64/build/usr/share/julia/stdlib/v1.2/LinearAlgebra/src/triangular.jl:1193",
      " [2] naivesub! at /Users/sabae/buildbot/worker/package_macos64/build/usr/share/julia/stdlib/v1.2/LinearAlgebra/src/triangular.jl:1187 [inlined]",
      " [3] ldiv! at /Users/sabae/buildbot/worker/package_macos64/build/usr/share/julia/stdlib/v1.2/LinearAlgebra/src/bidiag.jl:577 [inlined]",
      " [4] ldiv!(::UpperTriangular{Real,SubArray{Real,2,Array{Real,2},Tuple{Base.Slice{Base.OneTo{Int64}},UnitRange{Int64}},true}}, ::SubArray{Real,2,Array{Real,2},Tuple{UnitRange{Int64},Base.Slice{Base.OneTo{Int64}}},false}) at /Users/sabae/buildbot/worker/package_macos64/build/usr/share/julia/stdlib/v1.2/LinearAlgebra/src/bidiag.jl:590",
      " [5] ldiv!(::QR{Real,Array{Real,2}}, ::Array{Real,2}) at /Users/sabae/buildbot/worker/package_macos64/build/usr/share/julia/stdlib/v1.2/LinearAlgebra/src/qr.jl:811",
      " [6] ldiv!(::QRPivoted{Real,Array{Real,2}}, ::Array{Real,2}) at /Users/sabae/buildbot/worker/package_macos64/build/usr/share/julia/stdlib/v1.2/LinearAlgebra/src/qr.jl:838",
      " [7] \\(::QRPivoted{Float64,Array{Float64,2}}, ::Array{Real,2}) at /Users/sabae/buildbot/worker/package_macos64/build/usr/share/julia/stdlib/v1.2/LinearAlgebra/src/qr.jl:863",
      " [8] \\(::Array{Real,2}, ::Array{Real,2}) at /Users/sabae/buildbot/worker/package_macos64/build/usr/share/julia/stdlib/v1.2/LinearAlgebra/src/generic.jl:972",
      " [9] top-level scope at In[50]:1"
     ]
    }
   ],
   "source": [
    "# The weights of your linear equation (compute via least squares)\n",
    "w = train_x\\train_y\n",
    "\n",
    "train_pred = train_x*w\n",
    "test_pred = train_x*w\n",
    "\n",
    "train_MSE = MSE(train_y, train_pred)\n",
    "test_MSE = MSE(test_y, test_pred)"
   ]
  },
  {
   "cell_type": "code",
   "execution_count": 51,
   "metadata": {},
   "outputs": [
    {
     "data": {
      "text/plain": [
       "7.441169031122825"
      ]
     },
     "execution_count": 51,
     "metadata": {},
     "output_type": "execute_result"
    }
   ],
   "source": [
    "# The weights of your linear equation (compute via least squares)\n",
    "w_without_country = train_x_without_country\\train_y_without_country\n",
    "\n",
    "train_pred_without_country = train_x_without_country*w_without_country\n",
    "test_pred_without_country = train_x_without_country*w_without_country\n",
    "\n",
    "train_MSE_without_country = MSE(train_y_without_country, train_pred_without_country)\n",
    "test_MSE_without_country = MSE(test_y_without_country, test_pred_without_country)"
   ]
  },
  {
   "cell_type": "code",
   "execution_count": 53,
   "metadata": {},
   "outputs": [
    {
     "name": "stdout",
     "output_type": "stream",
     "text": [
      "Train MSE\t7.90261996920491e-29\n",
      "Test MSE \t7.441169031122825\n"
     ]
    },
    {
     "ename": "ErrorException",
     "evalue": "error compiling _plot!: error compiling _display: could not load library \"libGR.so\"\ndlopen(libGR.so.dylib, 1): image not found",
     "output_type": "error",
     "traceback": [
      "error compiling _plot!: error compiling _display: could not load library \"libGR.so\"\ndlopen(libGR.so.dylib, 1): image not found",
      "",
      "Stacktrace:",
      " [1] #plot#133(::Base.Iterators.Pairs{Symbol,Any,Tuple{Symbol,Symbol},NamedTuple{(:label, :seriestype),Tuple{String,Symbol}}}, ::typeof(plot), ::Array{Any,1}, ::Vararg{Any,N} where N) at /Users/fred/.julia/packages/Plots/h3o4c/src/plot.jl:57",
      " [2] #plot at ./none:0 [inlined]",
      " [3] #scatter#376 at /Users/fred/.julia/packages/RecipesBase/zBoFG/src/RecipesBase.jl:369 [inlined]",
      " [4] #scatter at ./none:0 [inlined]",
      " [5] #plotdata#25(::Float64, ::Bool, ::Bool, ::typeof(plotdata), ::Array{Any,1}, ::Array{Real,1}, ::String, ::String) at ./In[49]:21",
      " [6] #plotdata at ./array.jl:0 [inlined]",
      " [7] plot_pred_true(::Array{Any,2}, ::Array{Real,2}, ::Int64) at ./In[49]:41 (repeats 2 times)",
      " [8] top-level scope at In[53]:3"
     ]
    }
   ],
   "source": [
    "println(\"Train MSE\\t\", train_MSE_without_country)\n",
    "println(\"Test MSE \\t\", test_MSE_without_country)\n",
    "\n",
    "plot_pred_true(test_pred_without_country, test_y_without_country)"
   ]
  },
  {
   "cell_type": "code",
   "execution_count": null,
   "metadata": {},
   "outputs": [],
   "source": []
  }
 ],
 "metadata": {
  "kernelspec": {
   "display_name": "Julia 1.2.0",
   "language": "julia",
   "name": "julia-1.2"
  },
  "language_info": {
   "file_extension": ".jl",
   "mimetype": "application/julia",
   "name": "julia",
   "version": "1.2.0"
  }
 },
 "nbformat": 4,
 "nbformat_minor": 2
}
