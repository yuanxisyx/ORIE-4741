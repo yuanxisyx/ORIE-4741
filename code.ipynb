{
 "cells": [
  {
   "cell_type": "markdown",
   "metadata": {},
   "source": [
    "# Preprocessing\n"
   ]
  },
  {
   "cell_type": "code",
   "execution_count": 17,
   "metadata": {},
   "outputs": [],
   "source": [
    "using Statistics, LinearAlgebra, Random, DataFrames, Plots, StatsPlots, CSV, JSON"
   ]
  },
  {
   "cell_type": "code",
   "execution_count": 4,
   "metadata": {},
   "outputs": [
    {
     "name": "stdout",
     "output_type": "stream",
     "text": [
      "thread = 1 warning: only found 10 / 24 columns on data row: 19730. Filling remaining columns with `missing`\n",
      "thread = 1 warning: only found 15 / 24 columns on data row: 19731. Filling remaining columns with `missing`\n",
      "thread = 1 warning: only found 10 / 24 columns on data row: 29503. Filling remaining columns with `missing`\n",
      "thread = 1 warning: only found 15 / 24 columns on data row: 29504. Filling remaining columns with `missing`\n",
      "thread = 1 warning: only found 10 / 24 columns on data row: 35587. Filling remaining columns with `missing`\n",
      "thread = 1 warning: only found 15 / 24 columns on data row: 35588. Filling remaining columns with `missing`\n"
     ]
    },
    {
     "data": {
      "text/html": [
       "<table class=\"data-frame\"><thead><tr><th></th><th>adult</th><th>belongs_to_collection</th></tr><tr><th></th><th>String</th><th>String⍰</th></tr></thead><tbody><p>45,466 rows × 24 columns (omitted printing of 22 columns)</p><tr><th>1</th><td>False</td><td>{'id': 10194, 'name': 'Toy Story Collection', 'poster_path': '/7G9915LfUQ2lVfwMEEhDsn3kT4B.jpg', 'backdrop_path': '/9FBwqcd9IRruEDUrTdcaafOMKUq.jpg'}</td></tr><tr><th>2</th><td>False</td><td>missing</td></tr><tr><th>3</th><td>False</td><td>{'id': 119050, 'name': 'Grumpy Old Men Collection', 'poster_path': '/nLvUdqgPgm3F85NMCii9gVFUcet.jpg', 'backdrop_path': '/hypTnLot2z8wpFS7qwsQHW1uV8u.jpg'}</td></tr><tr><th>4</th><td>False</td><td>missing</td></tr><tr><th>5</th><td>False</td><td>{'id': 96871, 'name': 'Father of the Bride Collection', 'poster_path': '/nts4iOmNnq7GNicycMJ9pSAn204.jpg', 'backdrop_path': '/7qwE57OVZmMJChBpLEbJEmzUydk.jpg'}</td></tr><tr><th>6</th><td>False</td><td>missing</td></tr><tr><th>7</th><td>False</td><td>missing</td></tr><tr><th>8</th><td>False</td><td>missing</td></tr><tr><th>9</th><td>False</td><td>missing</td></tr><tr><th>10</th><td>False</td><td>{'id': 645, 'name': 'James Bond Collection', 'poster_path': '/HORpg5CSkmeQlAolx3bKMrKgfi.jpg', 'backdrop_path': '/6VcVl48kNKvdXOZfJPdarlUGOsk.jpg'}</td></tr><tr><th>11</th><td>False</td><td>missing</td></tr><tr><th>12</th><td>False</td><td>missing</td></tr><tr><th>13</th><td>False</td><td>{'id': 117693, 'name': 'Balto Collection', 'poster_path': '/w0ZgH6Lgxt2bQYnf1ss74UvYftm.jpg', 'backdrop_path': '/9VM5LiJV0bGb1st1KyHA3cVnO2G.jpg'}</td></tr><tr><th>14</th><td>False</td><td>missing</td></tr><tr><th>15</th><td>False</td><td>missing</td></tr><tr><th>16</th><td>False</td><td>missing</td></tr><tr><th>17</th><td>False</td><td>missing</td></tr><tr><th>18</th><td>False</td><td>missing</td></tr><tr><th>19</th><td>False</td><td>{'id': 3167, 'name': 'Ace Ventura Collection', 'poster_path': '/qCxH543pScFed1CycwJ1nVgrkOc.jpg', 'backdrop_path': '/bswWgdDsLu0fhWMYUzLF8XgiK4h.jpg'}</td></tr><tr><th>20</th><td>False</td><td>missing</td></tr><tr><th>21</th><td>False</td><td>{'id': 91698, 'name': 'Chili Palmer Collection', 'poster_path': '/ae3smJDdWrMJ77tDpYOrpo4frKq.jpg', 'backdrop_path': '/uWaANGQeoSs5vSP1CWtlkDrkqei.jpg'}</td></tr><tr><th>22</th><td>False</td><td>missing</td></tr><tr><th>23</th><td>False</td><td>missing</td></tr><tr><th>24</th><td>False</td><td>missing</td></tr><tr><th>25</th><td>False</td><td>missing</td></tr><tr><th>26</th><td>False</td><td>missing</td></tr><tr><th>27</th><td>False</td><td>missing</td></tr><tr><th>28</th><td>False</td><td>missing</td></tr><tr><th>29</th><td>False</td><td>missing</td></tr><tr><th>30</th><td>False</td><td>missing</td></tr><tr><th>&vellip;</th><td>&vellip;</td><td>&vellip;</td></tr></tbody></table>"
      ],
      "text/latex": [
       "\\begin{tabular}{r|ccc}\n",
       "\t& adult & belongs\\_to\\_collection & \\\\\n",
       "\t\\hline\n",
       "\t& String & String⍰ & \\\\\n",
       "\t\\hline\n",
       "\t1 & False & \\{'id': 10194, 'name': 'Toy Story Collection', 'poster\\_path': '/7G9915LfUQ2lVfwMEEhDsn3kT4B.jpg', 'backdrop\\_path': '/9FBwqcd9IRruEDUrTdcaafOMKUq.jpg'\\} & $\\dots$ \\\\\n",
       "\t2 & False &  & $\\dots$ \\\\\n",
       "\t3 & False & \\{'id': 119050, 'name': 'Grumpy Old Men Collection', 'poster\\_path': '/nLvUdqgPgm3F85NMCii9gVFUcet.jpg', 'backdrop\\_path': '/hypTnLot2z8wpFS7qwsQHW1uV8u.jpg'\\} & $\\dots$ \\\\\n",
       "\t4 & False &  & $\\dots$ \\\\\n",
       "\t5 & False & \\{'id': 96871, 'name': 'Father of the Bride Collection', 'poster\\_path': '/nts4iOmNnq7GNicycMJ9pSAn204.jpg', 'backdrop\\_path': '/7qwE57OVZmMJChBpLEbJEmzUydk.jpg'\\} & $\\dots$ \\\\\n",
       "\t6 & False &  & $\\dots$ \\\\\n",
       "\t7 & False &  & $\\dots$ \\\\\n",
       "\t8 & False &  & $\\dots$ \\\\\n",
       "\t9 & False &  & $\\dots$ \\\\\n",
       "\t10 & False & \\{'id': 645, 'name': 'James Bond Collection', 'poster\\_path': '/HORpg5CSkmeQlAolx3bKMrKgfi.jpg', 'backdrop\\_path': '/6VcVl48kNKvdXOZfJPdarlUGOsk.jpg'\\} & $\\dots$ \\\\\n",
       "\t11 & False &  & $\\dots$ \\\\\n",
       "\t12 & False &  & $\\dots$ \\\\\n",
       "\t13 & False & \\{'id': 117693, 'name': 'Balto Collection', 'poster\\_path': '/w0ZgH6Lgxt2bQYnf1ss74UvYftm.jpg', 'backdrop\\_path': '/9VM5LiJV0bGb1st1KyHA3cVnO2G.jpg'\\} & $\\dots$ \\\\\n",
       "\t14 & False &  & $\\dots$ \\\\\n",
       "\t15 & False &  & $\\dots$ \\\\\n",
       "\t16 & False &  & $\\dots$ \\\\\n",
       "\t17 & False &  & $\\dots$ \\\\\n",
       "\t18 & False &  & $\\dots$ \\\\\n",
       "\t19 & False & \\{'id': 3167, 'name': 'Ace Ventura Collection', 'poster\\_path': '/qCxH543pScFed1CycwJ1nVgrkOc.jpg', 'backdrop\\_path': '/bswWgdDsLu0fhWMYUzLF8XgiK4h.jpg'\\} & $\\dots$ \\\\\n",
       "\t20 & False &  & $\\dots$ \\\\\n",
       "\t21 & False & \\{'id': 91698, 'name': 'Chili Palmer Collection', 'poster\\_path': '/ae3smJDdWrMJ77tDpYOrpo4frKq.jpg', 'backdrop\\_path': '/uWaANGQeoSs5vSP1CWtlkDrkqei.jpg'\\} & $\\dots$ \\\\\n",
       "\t22 & False &  & $\\dots$ \\\\\n",
       "\t23 & False &  & $\\dots$ \\\\\n",
       "\t24 & False &  & $\\dots$ \\\\\n",
       "\t25 & False &  & $\\dots$ \\\\\n",
       "\t26 & False &  & $\\dots$ \\\\\n",
       "\t27 & False &  & $\\dots$ \\\\\n",
       "\t28 & False &  & $\\dots$ \\\\\n",
       "\t29 & False &  & $\\dots$ \\\\\n",
       "\t30 & False &  & $\\dots$ \\\\\n",
       "\t$\\dots$ & $\\dots$ & $\\dots$ &  \\\\\n",
       "\\end{tabular}\n"
      ],
      "text/plain": [
       "45466×24 DataFrame. Omitted printing of 23 columns\n",
       "│ Row   │ adult  │\n",
       "│       │ \u001b[90mString\u001b[39m │\n",
       "├───────┼────────┤\n",
       "│ 1     │ False  │\n",
       "│ 2     │ False  │\n",
       "│ 3     │ False  │\n",
       "│ 4     │ False  │\n",
       "│ 5     │ False  │\n",
       "│ 6     │ False  │\n",
       "│ 7     │ False  │\n",
       "│ 8     │ False  │\n",
       "│ 9     │ False  │\n",
       "│ 10    │ False  │\n",
       "⋮\n",
       "│ 45456 │ False  │\n",
       "│ 45457 │ False  │\n",
       "│ 45458 │ False  │\n",
       "│ 45459 │ False  │\n",
       "│ 45460 │ False  │\n",
       "│ 45461 │ False  │\n",
       "│ 45462 │ False  │\n",
       "│ 45463 │ False  │\n",
       "│ 45464 │ False  │\n",
       "│ 45465 │ False  │\n",
       "│ 45466 │ False  │"
      ]
     },
     "execution_count": 4,
     "metadata": {},
     "output_type": "execute_result"
    }
   ],
   "source": [
    "data = CSV.read(\"movies_metadata.csv\")"
   ]
  },
  {
   "cell_type": "code",
   "execution_count": 48,
   "metadata": {},
   "outputs": [
    {
     "data": {
      "text/plain": [
       "45466-element Array{Union{Missing, Float64},1}:\n",
       " 7.7\n",
       " 6.9\n",
       " 6.5\n",
       " 6.1\n",
       " 5.7\n",
       " 7.7\n",
       " 6.2\n",
       " 5.4\n",
       " 5.5\n",
       " 6.6\n",
       " 6.5\n",
       " 5.7\n",
       " 7.1\n",
       " ⋮  \n",
       " 4.0\n",
       " 6.0\n",
       " 6.3\n",
       " 7.0\n",
       " 7.0\n",
       " 3.5\n",
       " 5.7\n",
       " 4.0\n",
       " 9.0\n",
       " 3.8\n",
       " 0.0\n",
       " 0.0"
      ]
     },
     "execution_count": 48,
     "metadata": {},
     "output_type": "execute_result"
    }
   ],
   "source": [
    "y = data[:,:vote_average]"
   ]
  },
  {
   "cell_type": "code",
   "execution_count": 5,
   "metadata": {},
   "outputs": [
    {
     "data": {
      "text/plain": [
       "24-element Array{Symbol,1}:\n",
       " :adult                \n",
       " :belongs_to_collection\n",
       " :budget               \n",
       " :genres               \n",
       " :homepage             \n",
       " :id                   \n",
       " :imdb_id              \n",
       " :original_language    \n",
       " :original_title       \n",
       " :overview             \n",
       " :popularity           \n",
       " :poster_path          \n",
       " :production_companies \n",
       " :production_countries \n",
       " :release_date         \n",
       " :revenue              \n",
       " :runtime              \n",
       " :spoken_languages     \n",
       " :status               \n",
       " :tagline              \n",
       " :title                \n",
       " :video                \n",
       " :vote_average         \n",
       " :vote_count           "
      ]
     },
     "execution_count": 5,
     "metadata": {},
     "output_type": "execute_result"
    }
   ],
   "source": [
    "names(data)"
   ]
  },
  {
   "cell_type": "code",
   "execution_count": 6,
   "metadata": {},
   "outputs": [
    {
     "data": {
      "text/plain": [
       "onehot"
      ]
     },
     "execution_count": 6,
     "metadata": {},
     "output_type": "execute_result"
    }
   ],
   "source": [
    "\"Computes a onehot vector for every entry in column given a set of categories cats\"\n",
    "function onehot(column, cats=unique(column))\n",
    "    result = zeros(size(column)[1], size(cats)[1])\n",
    "    new_cats = Dict()\n",
    "    for (n, f) in enumerate(cats)\n",
    "       new_cats[f] = n\n",
    "    end\n",
    "    \n",
    "    for i in 1:size(column)[1]\n",
    "        index = get(new_cats, column[i], 0)\n",
    "        if index != 0\n",
    "            result[i, index] = 1\n",
    "        end\n",
    "    end\n",
    "    result\n",
    "end"
   ]
  },
  {
   "cell_type": "code",
   "execution_count": 61,
   "metadata": {},
   "outputs": [
    {
     "data": {
      "text/plain": [
       "manyhot"
      ]
     },
     "execution_count": 61,
     "metadata": {},
     "output_type": "execute_result"
    }
   ],
   "source": [
    "\"Computes a manyhot vector for every entry in an array of arrays given a set of categories cats\"\n",
    "function manyhot(column)\n",
    "    cats = Set()\n",
    "    for set in column\n",
    "        for item in set\n",
    "            push!(cats, item)\n",
    "        end\n",
    "    end\n",
    "    cats = unique(cats)\n",
    "    \n",
    "    result = zeros(size(column)[1], size(cats)[1])\n",
    "    new_cats = Dict()\n",
    "    for (n, f) in enumerate(cats)\n",
    "       new_cats[f] = n\n",
    "    end\n",
    "    \n",
    "    for i in 1:size(column)[1]\n",
    "        set_of_descriptions = Set(column[i])\n",
    "        for description in set_of_descriptions\n",
    "            index = get(new_cats, description, 0)\n",
    "            if index != 0\n",
    "                result[i, index] = 1\n",
    "            end\n",
    "        end\n",
    "    end\n",
    "    result\n",
    "end"
   ]
  },
  {
   "cell_type": "markdown",
   "metadata": {},
   "source": [
    "Preprocessing genre using many-hot encoding"
   ]
  },
  {
   "cell_type": "code",
   "execution_count": 141,
   "metadata": {},
   "outputs": [
    {
     "data": {
      "text/plain": [
       "preprocess_json (generic function with 1 method)"
      ]
     },
     "execution_count": 141,
     "metadata": {},
     "output_type": "execute_result"
    }
   ],
   "source": [
    "function preprocess_json(d)\n",
    "    if ismissing(d) || d == \"False\"\n",
    "        return Set()\n",
    "    end\n",
    "    x = d\n",
    "    x = replace(x, \"\\\"\" => \"\\'\")\n",
    "    x = replace(x, \"\\\\xa0\" => \" \")\n",
    "    x = replace(x, \"'name'\" => \"\\\"name\\\"\")\n",
    "    x = replace(x, \"'id'\" => \"\\\"id\\\"\")\n",
    "    x = replace(x, \": '\" => \": \\\"\")\n",
    "    x = replace(x, \"'}\" => \"\\\"}\")\n",
    "    x = replace(x, \"',\" => \"\\\",\")\n",
    "    x = replace(x, \"Orlenok\\\"\" => \"Orlenok'\")\n",
    "    x = replace(x, \"'iso_3166_1'\" => \"\\\"iso_3166_1\\\"\")\n",
    "    result = Set{String}()\n",
    "    try\n",
    "        for dic in JSON.parse(x)\n",
    "            push!(result, dic[\"name\"])\n",
    "        end\n",
    "    catch err\n",
    "        println(d)\n",
    "        println(x)\n",
    "        println(\"=============================\")\n",
    "        return Set()\n",
    "    end\n",
    "    return result\n",
    "end"
   ]
  },
  {
   "cell_type": "code",
   "execution_count": 142,
   "metadata": {},
   "outputs": [
    {
     "data": {
      "text/plain": [
       "45466×32 Array{Float64,2}:\n",
       " 1.0  0.0  0.0  0.0  0.0  0.0  0.0  0.0  …  0.0  0.0  0.0  0.0  0.0  0.0  0.0\n",
       " 1.0  0.0  0.0  0.0  0.0  0.0  0.0  1.0     0.0  0.0  0.0  0.0  0.0  0.0  0.0\n",
       " 0.0  0.0  0.0  0.0  0.0  0.0  0.0  0.0     0.0  0.0  1.0  0.0  0.0  0.0  0.0\n",
       " 0.0  0.0  0.0  0.0  0.0  0.0  0.0  0.0     0.0  0.0  1.0  0.0  0.0  0.0  0.0\n",
       " 0.0  0.0  0.0  0.0  0.0  0.0  0.0  0.0     0.0  0.0  0.0  0.0  0.0  0.0  0.0\n",
       " 0.0  0.0  0.0  0.0  0.0  0.0  1.0  0.0  …  0.0  0.0  0.0  0.0  0.0  1.0  0.0\n",
       " 0.0  0.0  0.0  0.0  0.0  0.0  0.0  0.0     0.0  0.0  1.0  0.0  0.0  0.0  0.0\n",
       " 1.0  0.0  0.0  0.0  0.0  0.0  1.0  1.0     0.0  0.0  0.0  0.0  0.0  0.0  0.0\n",
       " 0.0  0.0  0.0  0.0  0.0  0.0  1.0  1.0     0.0  0.0  0.0  0.0  0.0  0.0  0.0\n",
       " 0.0  0.0  0.0  0.0  0.0  0.0  1.0  1.0     0.0  0.0  0.0  0.0  0.0  0.0  0.0\n",
       " 0.0  0.0  0.0  0.0  0.0  0.0  0.0  0.0  …  0.0  0.0  1.0  0.0  0.0  0.0  0.0\n",
       " 0.0  0.0  0.0  0.0  0.0  0.0  0.0  0.0     0.0  0.0  0.0  0.0  0.0  0.0  0.0\n",
       " 1.0  0.0  0.0  0.0  0.0  0.0  0.0  1.0     0.0  0.0  0.0  0.0  0.0  0.0  0.0\n",
       " ⋮                        ⋮              ⋱  ⋮                        ⋮       \n",
       " 0.0  0.0  0.0  0.0  0.0  0.0  0.0  0.0     0.0  0.0  0.0  0.0  0.0  0.0  0.0\n",
       " 0.0  0.0  0.0  0.0  0.0  0.0  0.0  0.0  …  0.0  0.0  0.0  0.0  0.0  0.0  0.0\n",
       " 0.0  0.0  0.0  0.0  0.0  0.0  0.0  0.0     0.0  0.0  0.0  0.0  0.0  0.0  0.0\n",
       " 0.0  0.0  0.0  0.0  0.0  0.0  0.0  0.0     0.0  0.0  0.0  0.0  0.0  0.0  0.0\n",
       " 0.0  0.0  0.0  0.0  0.0  0.0  0.0  0.0     0.0  0.0  0.0  0.0  0.0  0.0  0.0\n",
       " 0.0  0.0  0.0  0.0  0.0  0.0  0.0  0.0     0.0  0.0  0.0  0.0  0.0  0.0  0.0\n",
       " 0.0  0.0  0.0  0.0  0.0  0.0  1.0  0.0  …  0.0  0.0  1.0  0.0  0.0  0.0  0.0\n",
       " 1.0  0.0  0.0  0.0  0.0  0.0  0.0  0.0     0.0  0.0  0.0  0.0  0.0  0.0  0.0\n",
       " 0.0  0.0  0.0  0.0  0.0  0.0  0.0  0.0     0.0  0.0  0.0  0.0  0.0  0.0  0.0\n",
       " 0.0  0.0  0.0  0.0  0.0  0.0  1.0  0.0     0.0  0.0  0.0  0.0  0.0  0.0  0.0\n",
       " 0.0  0.0  0.0  0.0  0.0  0.0  0.0  0.0     0.0  0.0  0.0  0.0  0.0  0.0  0.0\n",
       " 0.0  0.0  0.0  0.0  0.0  0.0  0.0  0.0  …  0.0  0.0  0.0  0.0  0.0  0.0  0.0"
      ]
     },
     "execution_count": 142,
     "metadata": {},
     "output_type": "execute_result"
    }
   ],
   "source": [
    "genres = manyhot(map(preprocess_json,data[:,:genres]))"
   ]
  },
  {
   "cell_type": "markdown",
   "metadata": {},
   "source": [
    "preprocessing production company"
   ]
  },
  {
   "cell_type": "code",
   "execution_count": 133,
   "metadata": {},
   "outputs": [
    {
     "data": {
      "text/plain": [
       "45466×23537 Array{Float64,2}:\n",
       " 0.0  0.0  0.0  0.0  0.0  0.0  0.0  0.0  …  0.0  0.0  0.0  0.0  0.0  0.0  0.0\n",
       " 0.0  0.0  0.0  0.0  0.0  0.0  0.0  0.0     0.0  0.0  0.0  0.0  0.0  0.0  0.0\n",
       " 0.0  0.0  0.0  0.0  0.0  0.0  0.0  0.0     0.0  0.0  0.0  0.0  0.0  0.0  0.0\n",
       " 0.0  0.0  0.0  0.0  0.0  0.0  0.0  0.0     0.0  0.0  0.0  0.0  0.0  0.0  0.0\n",
       " 0.0  0.0  0.0  0.0  0.0  0.0  0.0  0.0     0.0  0.0  0.0  0.0  0.0  0.0  0.0\n",
       " 0.0  0.0  0.0  0.0  0.0  0.0  0.0  0.0  …  0.0  0.0  0.0  0.0  0.0  0.0  0.0\n",
       " 0.0  0.0  0.0  0.0  0.0  0.0  0.0  0.0     0.0  0.0  0.0  0.0  0.0  0.0  0.0\n",
       " 0.0  0.0  0.0  0.0  0.0  0.0  0.0  0.0     0.0  0.0  0.0  0.0  0.0  0.0  0.0\n",
       " 0.0  0.0  0.0  0.0  0.0  0.0  0.0  0.0     0.0  0.0  0.0  0.0  0.0  0.0  0.0\n",
       " 0.0  0.0  0.0  0.0  0.0  0.0  0.0  0.0     0.0  0.0  0.0  0.0  0.0  0.0  0.0\n",
       " 0.0  0.0  0.0  0.0  0.0  0.0  0.0  0.0  …  0.0  0.0  0.0  0.0  0.0  0.0  0.0\n",
       " 0.0  0.0  0.0  0.0  0.0  0.0  0.0  0.0     0.0  0.0  0.0  0.0  0.0  0.0  0.0\n",
       " 0.0  0.0  0.0  0.0  0.0  0.0  0.0  0.0     0.0  0.0  0.0  0.0  0.0  0.0  0.0\n",
       " ⋮                        ⋮              ⋱  ⋮                        ⋮       \n",
       " 0.0  0.0  0.0  0.0  0.0  0.0  0.0  0.0     0.0  0.0  0.0  0.0  0.0  0.0  0.0\n",
       " 0.0  0.0  0.0  0.0  0.0  0.0  0.0  0.0  …  0.0  0.0  0.0  0.0  0.0  0.0  0.0\n",
       " 0.0  0.0  0.0  0.0  0.0  0.0  0.0  0.0     0.0  0.0  0.0  0.0  0.0  0.0  0.0\n",
       " 0.0  0.0  0.0  0.0  0.0  0.0  0.0  0.0     0.0  0.0  0.0  0.0  0.0  0.0  0.0\n",
       " 0.0  0.0  0.0  0.0  0.0  0.0  0.0  0.0     0.0  0.0  0.0  0.0  0.0  0.0  0.0\n",
       " 0.0  0.0  0.0  0.0  0.0  0.0  0.0  0.0     0.0  0.0  0.0  0.0  0.0  0.0  0.0\n",
       " 0.0  0.0  0.0  0.0  0.0  0.0  0.0  0.0  …  0.0  0.0  0.0  0.0  0.0  0.0  0.0\n",
       " 0.0  0.0  0.0  0.0  0.0  0.0  0.0  0.0     0.0  0.0  0.0  0.0  0.0  0.0  0.0\n",
       " 0.0  0.0  0.0  0.0  0.0  0.0  0.0  0.0     0.0  0.0  0.0  0.0  0.0  0.0  0.0\n",
       " 0.0  0.0  0.0  0.0  0.0  0.0  0.0  0.0     0.0  0.0  0.0  0.0  0.0  0.0  0.0\n",
       " 0.0  0.0  0.0  0.0  0.0  0.0  0.0  0.0     0.0  0.0  0.0  0.0  0.0  0.0  0.0\n",
       " 0.0  0.0  0.0  0.0  0.0  0.0  0.0  0.0  …  0.0  0.0  0.0  0.0  0.0  0.0  0.0"
      ]
     },
     "execution_count": 133,
     "metadata": {},
     "output_type": "execute_result"
    }
   ],
   "source": [
    "production_companies = manyhot(map(preprocess_json,data[:,:production_companies]))"
   ]
  },
  {
   "cell_type": "markdown",
   "metadata": {},
   "source": [
    "There are so many production companies and we don't want to overfit our data, so we exclude it for now."
   ]
  },
  {
   "cell_type": "markdown",
   "metadata": {},
   "source": [
    "Preprocessing production countries"
   ]
  },
  {
   "cell_type": "code",
   "execution_count": 143,
   "metadata": {},
   "outputs": [
    {
     "name": "stdout",
     "output_type": "stream",
     "text": [
      "4.3\n",
      "4.3\n",
      "=============================\n",
      "6.0\n",
      "6.0\n",
      "=============================\n",
      "7.0\n",
      "7.0\n",
      "=============================\n"
     ]
    },
    {
     "data": {
      "text/plain": [
       "45466×160 Array{Float64,2}:\n",
       " 1.0  0.0  0.0  0.0  0.0  0.0  0.0  0.0  …  0.0  0.0  0.0  0.0  0.0  0.0  0.0\n",
       " 1.0  0.0  0.0  0.0  0.0  0.0  0.0  0.0     0.0  0.0  0.0  0.0  0.0  0.0  0.0\n",
       " 1.0  0.0  0.0  0.0  0.0  0.0  0.0  0.0     0.0  0.0  0.0  0.0  0.0  0.0  0.0\n",
       " 1.0  0.0  0.0  0.0  0.0  0.0  0.0  0.0     0.0  0.0  0.0  0.0  0.0  0.0  0.0\n",
       " 1.0  0.0  0.0  0.0  0.0  0.0  0.0  0.0     0.0  0.0  0.0  0.0  0.0  0.0  0.0\n",
       " 1.0  0.0  0.0  0.0  0.0  0.0  0.0  0.0  …  0.0  0.0  0.0  0.0  0.0  0.0  0.0\n",
       " 1.0  0.0  0.0  0.0  0.0  0.0  0.0  0.0     0.0  0.0  0.0  0.0  0.0  0.0  0.0\n",
       " 1.0  0.0  0.0  0.0  0.0  0.0  0.0  0.0     0.0  0.0  0.0  0.0  0.0  0.0  0.0\n",
       " 1.0  0.0  0.0  0.0  0.0  0.0  0.0  0.0     0.0  0.0  0.0  0.0  0.0  0.0  0.0\n",
       " 1.0  0.0  0.0  0.0  0.0  0.0  0.0  0.0     0.0  0.0  0.0  0.0  0.0  0.0  0.0\n",
       " 1.0  0.0  0.0  0.0  0.0  0.0  0.0  0.0  …  0.0  0.0  0.0  0.0  0.0  0.0  0.0\n",
       " 1.0  0.0  0.0  0.0  0.0  0.0  0.0  0.0     0.0  0.0  0.0  0.0  0.0  0.0  0.0\n",
       " 1.0  0.0  0.0  0.0  0.0  0.0  0.0  0.0     0.0  0.0  0.0  0.0  0.0  0.0  0.0\n",
       " ⋮                        ⋮              ⋱            ⋮                      \n",
       " 1.0  0.0  0.0  0.0  0.0  0.0  0.0  0.0     0.0  0.0  0.0  0.0  0.0  0.0  0.0\n",
       " 0.0  0.0  0.0  0.0  0.0  0.0  0.0  0.0  …  0.0  0.0  0.0  0.0  0.0  0.0  0.0\n",
       " 1.0  0.0  0.0  0.0  0.0  0.0  0.0  0.0     0.0  0.0  0.0  0.0  0.0  0.0  0.0\n",
       " 0.0  0.0  0.0  0.0  0.0  0.0  0.0  0.0     0.0  0.0  0.0  0.0  0.0  0.0  0.0\n",
       " 1.0  0.0  0.0  0.0  0.0  0.0  0.0  0.0     0.0  0.0  0.0  0.0  0.0  0.0  0.0\n",
       " 1.0  0.0  0.0  0.0  0.0  0.0  0.0  0.0     0.0  0.0  0.0  0.0  0.0  0.0  0.0\n",
       " 1.0  0.0  0.0  0.0  0.0  0.0  0.0  0.0  …  0.0  0.0  0.0  0.0  0.0  0.0  0.0\n",
       " 0.0  0.0  0.0  0.0  0.0  0.0  0.0  0.0     0.0  0.0  0.0  0.0  0.0  0.0  0.0\n",
       " 0.0  0.0  0.0  0.0  0.0  0.0  0.0  0.0     0.0  0.0  0.0  0.0  0.0  0.0  0.0\n",
       " 1.0  0.0  0.0  0.0  0.0  0.0  0.0  0.0     0.0  0.0  0.0  0.0  0.0  0.0  0.0\n",
       " 0.0  0.0  0.0  0.0  0.0  0.0  0.0  0.0     0.0  0.0  0.0  0.0  0.0  0.0  0.0\n",
       " 0.0  0.0  0.0  0.0  0.0  0.0  0.0  0.0  …  0.0  0.0  0.0  0.0  0.0  0.0  0.0"
      ]
     },
     "execution_count": 143,
     "metadata": {},
     "output_type": "execute_result"
    }
   ],
   "source": [
    "production_countries = manyhot(map(preprocess_json,data[:,:production_countries]))"
   ]
  },
  {
   "cell_type": "code",
   "execution_count": null,
   "metadata": {},
   "outputs": [],
   "source": []
  }
 ],
 "metadata": {
  "kernelspec": {
   "display_name": "Julia 1.2.0",
   "language": "julia",
   "name": "julia-1.2"
  },
  "language_info": {
   "file_extension": ".jl",
   "mimetype": "application/julia",
   "name": "julia",
   "version": "1.2.0"
  }
 },
 "nbformat": 4,
 "nbformat_minor": 2
}
