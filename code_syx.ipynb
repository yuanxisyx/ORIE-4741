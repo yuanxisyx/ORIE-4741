{
 "cells": [
  {
   "cell_type": "code",
   "execution_count": null,
   "metadata": {},
   "outputs": [],
   "source": [
    "using Statistics, LinearAlgebra, Random, DataFrames, Plots, StatsPlots, CSV\n",
    "credits = CSV.read(\"credits.csv\")\n",
    "keywords = CSV.read(\"keywords.csv\")\n",
    "links = CSV.read(\"links.csv\")\n",
    "links_small = CSV.read(\"links_small.csv\")\n",
    "movies_metadata = CSV.read(\"movies_metadata.csv\")\n",
    "ratings = CSV.read(\"ratings.csv\")\n",
    "ratings_small = CSV.read(\"ratings_small.csv\");"
   ]
  }
 ],
 "metadata": {
  "kernelspec": {
   "display_name": "Python 3",
   "language": "python",
   "name": "python3"
  },
  "language_info": {
   "codemirror_mode": {
    "name": "ipython",
    "version": 3
   },
   "file_extension": ".py",
   "mimetype": "text/x-python",
   "name": "python",
   "nbconvert_exporter": "python",
   "pygments_lexer": "ipython3",
   "version": "3.6.5"
  }
 },
 "nbformat": 4,
 "nbformat_minor": 2
}
