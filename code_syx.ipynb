{
 "cells": [
  {
   "cell_type": "code",
   "execution_count": 27,
   "metadata": {},
   "outputs": [],
   "source": [
    "using Statistics, LinearAlgebra, Random, DataFrames, Plots, StatsPlots, CSV, Dates"
   ]
  },
  {
   "cell_type": "code",
   "execution_count": 3,
   "metadata": {},
   "outputs": [
    {
     "name": "stdout",
     "output_type": "stream",
     "text": [
      "thread = 1 warning: only found 10 / 24 columns on data row: 19730. Filling remaining columns with `missing`\n",
      "thread = 1 warning: only found 15 / 24 columns on data row: 19731. Filling remaining columns with `missing`\n",
      "thread = 1 warning: only found 10 / 24 columns on data row: 29503. Filling remaining columns with `missing`\n",
      "thread = 1 warning: only found 15 / 24 columns on data row: 29504. Filling remaining columns with `missing`\n",
      "thread = 1 warning: only found 10 / 24 columns on data row: 35587. Filling remaining columns with `missing`\n",
      "thread = 1 warning: only found 15 / 24 columns on data row: 35588. Filling remaining columns with `missing`\n"
     ]
    }
   ],
   "source": [
    "credits = CSV.read(\"credits.csv\")\n",
    "keywords = CSV.read(\"keywords.csv\")\n",
    "links = CSV.read(\"links.csv\")\n",
    "links_small = CSV.read(\"links_small.csv\")\n",
    "movies_metadata = CSV.read(\"movies_metadata.csv\")\n",
    "ratings = CSV.read(\"ratings.csv\")\n",
    "ratings_small = CSV.read(\"ratings_small.csv\");"
   ]
  },
  {
   "cell_type": "code",
   "execution_count": 13,
   "metadata": {},
   "outputs": [],
   "source": [
    "# preprocess all the missing data, and change missing to mean value\n",
    "time = movies_metadata[:, :runtime]\n",
    "valid = filter(x -> ! ismissing(x), time)\n",
    "mean_val = mean(valid)\n",
    "for i in 1:size(time, 1)\n",
    "    if ismissing(time[i]) || time[i] == 0\n",
    "        time[i] = mean_val\n",
    "    end\n",
    "end"
   ]
  },
  {
   "cell_type": "code",
   "execution_count": 14,
   "metadata": {},
   "outputs": [
    {
     "data": {
      "text/plain": [
       "3-element Array{Float64,1}:\n",
       "  87.0\n",
       "  95.0\n",
       " 107.0"
      ]
     },
     "execution_count": 14,
     "metadata": {},
     "output_type": "execute_result"
    }
   ],
   "source": [
    "min_val = minimum(time)\n",
    "max_val = maximum(time)\n",
    "q_val = quantile(time, [0.25, 0.5, 0.75])"
   ]
  },
  {
   "cell_type": "code",
   "execution_count": 22,
   "metadata": {},
   "outputs": [
    {
     "data": {
      "text/plain": [
       "45466×3 Array{Float64,2}:\n",
       " 0.0  0.0  0.0\n",
       " 1.0  1.0  0.0\n",
       " 1.0  1.0  0.0\n",
       " 1.0  1.0  1.0\n",
       " 1.0  1.0  0.0\n",
       " 1.0  1.0  1.0\n",
       " 1.0  1.0  1.0\n",
       " 1.0  1.0  0.0\n",
       " 1.0  1.0  0.0\n",
       " 1.0  1.0  1.0\n",
       " 1.0  1.0  0.0\n",
       " 1.0  0.0  0.0\n",
       " 0.0  0.0  0.0\n",
       " ⋮            \n",
       " 0.0  0.0  0.0\n",
       " 1.0  0.0  0.0\n",
       " 0.0  0.0  0.0\n",
       " 0.0  0.0  0.0\n",
       " 0.0  0.0  0.0\n",
       " 0.0  0.0  0.0\n",
       " 1.0  1.0  0.0\n",
       " 1.0  0.0  0.0\n",
       " 1.0  1.0  1.0\n",
       " 1.0  0.0  0.0\n",
       " 1.0  0.0  0.0\n",
       " 0.0  0.0  0.0"
      ]
     },
     "execution_count": 22,
     "metadata": {},
     "output_type": "execute_result"
    }
   ],
   "source": [
    "runtime = zeros(size(time, 1), 3) # the new matrix with many code\n",
    "for i in 1:size(time, 1)\n",
    "    t = time[i]\n",
    "    runtime[i, :] = Int.([t>=q_val[1], t>=q_val[2], t>=q_val[3]])\n",
    "end\n",
    "runtime"
   ]
  },
  {
   "cell_type": "code",
   "execution_count": 44,
   "metadata": {},
   "outputs": [],
   "source": [
    "date = movies_metadata[:, :release_date]\n",
    "months = Int.(zeros(size(date, 1)))\n",
    "for i in 1:size(date, 1)\n",
    "    x = date[i]\n",
    "    if ismissing(x)\n",
    "        months[i] = rand(1:12,1)[1]\n",
    "    else\n",
    "        months[i] = Dates.month(x)\n",
    "    end\n",
    "end"
   ]
  },
  {
   "cell_type": "code",
   "execution_count": 46,
   "metadata": {},
   "outputs": [
    {
     "data": {
      "text/plain": [
       "45466×4 Array{Float64,2}:\n",
       " 0.0  0.0  0.0  1.0\n",
       " 0.0  0.0  0.0  1.0\n",
       " 0.0  0.0  0.0  1.0\n",
       " 0.0  0.0  0.0  1.0\n",
       " 1.0  0.0  0.0  0.0\n",
       " 0.0  0.0  0.0  1.0\n",
       " 0.0  0.0  0.0  1.0\n",
       " 0.0  0.0  0.0  1.0\n",
       " 0.0  0.0  0.0  1.0\n",
       " 0.0  0.0  0.0  1.0\n",
       " 0.0  0.0  0.0  1.0\n",
       " 0.0  0.0  0.0  1.0\n",
       " 0.0  0.0  0.0  1.0\n",
       " ⋮                 \n",
       " 1.0  0.0  0.0  0.0\n",
       " 1.0  0.0  0.0  0.0\n",
       " 1.0  0.0  0.0  0.0\n",
       " 0.0  0.0  0.0  1.0\n",
       " 0.0  0.0  0.0  1.0\n",
       " 1.0  0.0  0.0  0.0\n",
       " 0.0  1.0  0.0  0.0\n",
       " 0.0  0.0  1.0  0.0\n",
       " 0.0  0.0  0.0  1.0\n",
       " 0.0  0.0  1.0  0.0\n",
       " 0.0  0.0  0.0  1.0\n",
       " 0.0  1.0  0.0  0.0"
      ]
     },
     "execution_count": 46,
     "metadata": {},
     "output_type": "execute_result"
    }
   ],
   "source": [
    "release_date = zeros(size(months, 1), 4)\n",
    "for i in 1:length(months)\n",
    "    d = months[i]\n",
    "    release_date[i, :] = Int.([d in 1:3, d in 4:6, d in 7:9, d in 10:12])\n",
    "end\n",
    "release_date"
   ]
  }
 ],
 "metadata": {
  "kernelspec": {
   "display_name": "Julia 1.2.0",
   "language": "julia",
   "name": "julia-1.2"
  },
  "language_info": {
   "file_extension": ".jl",
   "mimetype": "application/julia",
   "name": "julia",
   "version": "1.2.0"
  }
 },
 "nbformat": 4,
 "nbformat_minor": 2
}
